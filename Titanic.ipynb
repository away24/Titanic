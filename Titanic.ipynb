{
  "nbformat": 4,
  "nbformat_minor": 0,
  "metadata": {
    "colab": {
      "name": "Titanic.ipynb",
      "provenance": [],
      "toc_visible": true
    },
    "kernelspec": {
      "name": "python3",
      "display_name": "Python 3"
    }
  },
  "cells": [
    {
      "cell_type": "markdown",
      "metadata": {
        "id": "JDXmbapwlf7y"
      },
      "source": [
        "# Load Data"
      ]
    },
    {
      "cell_type": "markdown",
      "metadata": {
        "id": "cPOw5qT_l-jK"
      },
      "source": [
        "A first look at the data:\r\n",
        "1. There are missing data in train_data: for feature age, there are 177(19.9%) missing data; for feature cabin, there are 687(77.1%) missing data; for feature embarked, there are 2 missing data.\r\n",
        "2. There are missing data in test_data: for feature age, there are 86(20.6%) missing data; for feature cabin, there are 327 missing data; for feature fare, there is 1 missing data."
      ]
    },
    {
      "cell_type": "code",
      "metadata": {
        "id": "pA33sfNjKfKA",
        "colab": {
          "base_uri": "https://localhost:8080/"
        },
        "outputId": "e3142012-2015-49bb-d716-152b70e3a83a"
      },
      "source": [
        "import numpy as np \r\n",
        "import pandas as pd \r\n",
        "import matplotlib.pyplot as plt\r\n",
        "\r\n",
        "from sklearn.model_selection import train_test_split\r\n",
        "from sklearn.model_selection import GridSearchCV\r\n",
        "from sklearn.model_selection import cross_val_score\r\n",
        "\r\n",
        "# Machine learning methods\r\n",
        "from sklearn.linear_model import LogisticRegression\r\n",
        "from sklearn.discriminant_analysis import LinearDiscriminantAnalysis\r\n",
        "from sklearn.discriminant_analysis import QuadraticDiscriminantAnalysis\r\n",
        "from sklearn.neighbors import KNeighborsClassifier\r\n",
        "from sklearn.tree import DecisionTreeClassifier\r\n",
        "from sklearn.ensemble import RandomForestClassifier\r\n",
        "from sklearn.ensemble import GradientBoostingClassifier\r\n",
        "from sklearn.ensemble import ExtraTreesClassifier\r\n",
        "from sklearn.ensemble import AdaBoostClassifier\r\n",
        "from sklearn.naive_bayes import GaussianNB\r\n",
        "from sklearn.svm import SVC\r\n",
        "from sklearn.decomposition import PCA\r\n",
        "from sklearn.cluster import KMeans\r\n",
        "\r\n",
        "from google.colab import drive\r\n",
        "drive.mount('/content/drive')\r\n",
        "\r\n",
        "file = pd.read_csv('drive/My Drive/data/Housedata.txt',sep='\\s+')\r\n",
        "train_source_loc = 'drive/My Drive/data/train.csv'\r\n",
        "test_source_loc = 'drive/My Drive/data/test.csv'\r\n",
        "test_valid_loc = 'drive/My Drive/data/titanic_valid.csv'\r\n",
        "\r\n",
        "train_data = pd.read_csv(train_source_loc)\r\n",
        "test_data = pd.read_csv(test_source_loc)\r\n",
        "test_valid = pd.read_csv(test_valid_loc)\r\n",
        "\r\n",
        "def get_accuracy(y,fitted):\r\n",
        "  count = 0\r\n",
        "  for i in range(len(y)):\r\n",
        "    if y[i]==fitted[i]:\r\n",
        "      count+=1\r\n",
        "  return count/len(y)"
      ],
      "execution_count": 251,
      "outputs": [
        {
          "output_type": "stream",
          "text": [
            "Drive already mounted at /content/drive; to attempt to forcibly remount, call drive.mount(\"/content/drive\", force_remount=True).\n"
          ],
          "name": "stdout"
        }
      ]
    },
    {
      "cell_type": "markdown",
      "metadata": {
        "id": "17wVyX02lmUR"
      },
      "source": [
        "# Analysis of Data"
      ]
    },
    {
      "cell_type": "markdown",
      "metadata": {
        "id": "e4DQD-WA8Spr"
      },
      "source": [
        "## Summary "
      ]
    },
    {
      "cell_type": "markdown",
      "metadata": {
        "id": "glb3eJAym5h7"
      },
      "source": [
        "## Survival Rates by Passenger Class."
      ]
    },
    {
      "cell_type": "code",
      "metadata": {
        "colab": {
          "base_uri": "https://localhost:8080/",
          "height": 367
        },
        "id": "KB0Ky-XDm6DX",
        "outputId": "652c2775-7d17-4976-dee5-5254d9cf918a"
      },
      "source": [
        "# Compute the survival rates by Pclass\r\n",
        "# Row 1: 1st class. Row 2: 2nd class. Row 3: 3rd class.\r\n",
        "# For each row, the data records the number of people, the number of survival people and the survival rate.\r\n",
        "survival_rate_pclass = np.empty([3,3])\r\n",
        "for i in np.arange(1,4):\r\n",
        "    temp = train_data.loc[train_data['Pclass']==i,['Survived']]\r\n",
        "    survival_rate_pclass[i-1] = [len(temp),temp.sum(),temp.mean()]\r\n",
        "\r\n",
        "# Compute the correlation coefficient\r\n",
        "corrcoef = train_data[['Pclass','Survived']].corr(method='pearson').iloc[0,1]\r\n",
        "\r\n",
        "# Draw a bar plot to show survival rates by Pclass\r\n",
        "pclass_labels = ['1','2','3']\r\n",
        "fig , ax = plt.subplots()\r\n",
        "ax.bar(pclass_labels,survival_rate_pclass[:,2])\r\n",
        "ax.set_xlabel('Passenger Class')\r\n",
        "ax.set_ylabel('Survival Rate')\r\n",
        "ax.set_title('Survival Rates by Passenger Class ( corr ='+str.format('{:0.3f}',corrcoef) +')')\r\n",
        "plt.show()\r\n",
        "\r\n",
        "\r\n",
        "survival_rate_pclass = pd.DataFrame(np.concatenate(([[1],[2],[3]],survival_rate_pclass),axis=1),\\\r\n",
        "                                    columns=['Pclass','People','Survived','Survival_Rate'])\r\n",
        "print(survival_rate_pclass)"
      ],
      "execution_count": 14,
      "outputs": [
        {
          "output_type": "display_data",
          "data": {
            "image/png": "[encoded data removed]",
            "text/plain": [
              "<Figure size 432x288 with 1 Axes>"
            ]
          },
          "metadata": {
            "tags": [],
            "needs_background": "light"
          }
        },
        {
          "output_type": "stream",
          "text": [
            "   Pclass  People  Survived  Survival_Rate\n",
            "0     1.0   216.0     136.0       0.629630\n",
            "1     2.0   184.0      87.0       0.472826\n",
            "2     3.0   491.0     119.0       0.242363\n"
          ],
          "name": "stdout"
        }
      ]
    },
    {
      "cell_type": "markdown",
      "metadata": {
        "id": "I3XSfDjWnCOM"
      },
      "source": [
        "## Survival Rates by Gender"
      ]
    },
    {
      "cell_type": "code",
      "metadata": {
        "colab": {
          "base_uri": "https://localhost:8080/",
          "height": 349
        },
        "id": "HUvSnIuwnBYz",
        "outputId": "c3be1ac4-3dca-4895-ee6e-c4ebab209189"
      },
      "source": [
        "# Compute survival rates by gender\r\n",
        "# Row 1: male. Row 2: female. \r\n",
        "# For each row, the data records the number of people, the number of survival people and the survival rate.\r\n",
        "survival_rate_gender = np.empty([2,3])  \r\n",
        "j = 0\r\n",
        "for i in ['male','female']:\r\n",
        "    temp = train_data.loc[train_data['Sex']==i,['Survived']]\r\n",
        "    survival_rate_gender[j] = [len(temp),temp.sum(),temp.mean()]\r\n",
        "    j +=1\r\n",
        "\r\n",
        "\r\n",
        "# Compute the correlation coefficient\r\n",
        "temp = np.empty(len(train_data.index))\r\n",
        "temp[train_data['Sex']=='male']=0\r\n",
        "temp[train_data['Sex']=='female']=1\r\n",
        "\r\n",
        "corrcoef = np.corrcoef(temp,train_data['Survived'].values)[0,1]\r\n",
        "\r\n",
        "# Draw a bar plot to show survival rates by gender\r\n",
        "gender_labels = ['male','female']\r\n",
        "\r\n",
        "fig , ax = plt.subplots();\r\n",
        "ax.bar(gender_labels,survival_rate_gender[:,2])\r\n",
        "ax.set_xlabel('Gender')\r\n",
        "ax.set_ylabel('Survival Rate')\r\n",
        "ax.set_title('Survival Rates by Gender ')\r\n",
        "ax.set_title('Survival Rates by Gender ( corr ='+str.format('{:0.3f}',corrcoef) +')')\r\n",
        "plt.show()\r\n",
        "\r\n",
        "survival_rate_gender = pd.DataFrame(np.concatenate(([['male'],['female']],survival_rate_gender),axis=1),\\\r\n",
        "                                    columns=['Gender','People','Survived','Survival_Rate'])\r\n",
        "print(survival_rate_gender)"
      ],
      "execution_count": 20,
      "outputs": [
        {
          "output_type": "display_data",
          "data": {
            "image/png": "[encoded data removed]",
            "text/plain": [
              "<Figure size 432x288 with 1 Axes>"
            ]
          },
          "metadata": {
            "tags": [],
            "needs_background": "light"
          }
        },
        {
          "output_type": "stream",
          "text": [
            "   Gender People Survived        Survival_Rate\n",
            "0    male  577.0    109.0  0.18890814558058924\n",
            "1  female  314.0    233.0   0.7420382165605095\n"
          ],
          "name": "stdout"
        }
      ]
    },
    {
      "cell_type": "markdown",
      "metadata": {
        "id": "lAmYcTGHnJYD"
      },
      "source": [
        "## Survival Rates by Gender and Passenger Class"
      ]
    },
    {
      "cell_type": "code",
      "metadata": {
        "colab": {
          "base_uri": "https://localhost:8080/",
          "height": 335
        },
        "id": "XUlB1zCmnP-o",
        "outputId": "c1914c13-1aac-45b6-d617-cabac4ea291b"
      },
      "source": [
        "survival_rate_genpclass = np.empty([2,3])\r\n",
        "\r\n",
        "k=0\r\n",
        "for i in ['male','female']:\r\n",
        "    for j in range(3):\r\n",
        "        survival_rate_genpclass[k,j]=train_data.loc[(train_data['Sex']==i) & (train_data['Pclass']==(j+1)),['Survived']].mean()\r\n",
        "    k+=1\r\n",
        "\r\n",
        "fig , ax = plt.subplots()\r\n",
        "x_coordinates = np.arange(2)\r\n",
        "bar_width=0.2\r\n",
        "ax.bar(x_coordinates,survival_rate_genpclass[:,0], color='b', width=bar_width, label='1st class')\r\n",
        "ax.bar(x_coordinates+bar_width,survival_rate_genpclass[:,1], color='r', width=bar_width, label='2nd class')\r\n",
        "ax.bar(x_coordinates+2*bar_width,survival_rate_genpclass[:,2], color='k', width=bar_width, label='3rd class')\r\n",
        "ax.set_xticks(x_coordinates+bar_width)\r\n",
        "ax.set_xticklabels(['male','female'])\r\n",
        "ax.legend()\r\n",
        "ax.set_ylabel('Survival Rate')\r\n",
        "ax.set_title('Survival Rates by Gender and Passenger Class')\r\n",
        "plt.show()\r\n",
        "\r\n",
        "survival_rate_genpclass = pd.DataFrame(np.concatenate(([['male'],['female']],survival_rate_genpclass),axis=1),\\\r\n",
        "                                       columns=['Gender','1st_Survival_Rate','2nd_Survival_Rate','3rd_Survival_Rate'])\r\n",
        "print(survival_rate_genpclass)"
      ],
      "execution_count": 16,
      "outputs": [
        {
          "output_type": "display_data",
          "data": {
            "image/png": "[encoded data removed]",
            "text/plain": [
              "<Figure size 432x288 with 1 Axes>"
            ]
          },
          "metadata": {
            "tags": [],
            "needs_background": "light"
          }
        },
        {
          "output_type": "stream",
          "text": [
            "   Gender    1st_Survival_Rate   2nd_Survival_Rate    3rd_Survival_Rate\n",
            "0    male  0.36885245901639346  0.1574074074074074  0.13544668587896252\n",
            "1  female   0.9680851063829787  0.9210526315789473                  0.5\n"
          ],
          "name": "stdout"
        }
      ]
    },
    {
      "cell_type": "markdown",
      "metadata": {
        "id": "3cmpSDczn5Sj"
      },
      "source": [
        "## Survival Rates by Age"
      ]
    },
    {
      "cell_type": "markdown",
      "metadata": {
        "id": "ElLzyrGvrozx"
      },
      "source": [
        "> Check that the data of Age being missing is not related to survival rates, i.e. the value of Age is missing at random."
      ]
    },
    {
      "cell_type": "code",
      "metadata": {
        "id": "T6ejnuVlrZlD"
      },
      "source": [
        "survival_rate_agen = np.empty(2)\r\n",
        "survival_rate_agen[0] = train_data.loc[train_data['Age'].isna(),['Survived']].mean()\r\n",
        "survival_rate_agen[1] = train_data.loc[~train_data['Age'].isna(),['Survived']].mean()\r\n",
        "print(survival_rate_agen)\r\n",
        "\r\n",
        "survival_rate_agen = np.empty(2)\r\n",
        "survival_rate_agen[0] = train_data.loc[(train_data['Age'].isna()) & (train_data['Sex']=='female') & (train_data['Pclass']==3),['Survived']].mean()\r\n",
        "survival_rate_agen[1] = train_data.loc[(~train_data['Age'].isna()) & (train_data['Sex']=='female') & (train_data['Pclass']==3),['Survived']].mean()\r\n",
        "print(survival_rate_agen)"
      ],
      "execution_count": null,
      "outputs": []
    },
    {
      "cell_type": "markdown",
      "metadata": {
        "id": "qx2nupPYrruz"
      },
      "source": [
        "The correlation coefficient between 'Age' and 'Survived' is really low -0.077221. As shown in previous section, if a passenger is a female and is in 1st or 2nd class, she is 94.7% likely to survive. Within the subgroup, the feature 'Age' does not play much a role in predicting whether a passenger survives or not. However 'Age' plays a role in other subgroups."
      ]
    },
    {
      "cell_type": "code",
      "metadata": {
        "id": "2Upcwo_tru1W"
      },
      "source": [
        "#train_data.loc[~train_data['Age'].isna(),['Age','Survived']].corr(method='pearson')\r\n",
        "#train_data.loc[(~train_data['Age'].isna()) & (train_data['Sex']=='female') & (train_data['Pclass']==2),['Age','Survived']].corr(method='pearson')"
      ],
      "execution_count": null,
      "outputs": []
    },
    {
      "cell_type": "markdown",
      "metadata": {
        "id": "ccuVhT2jr1Pv"
      },
      "source": [
        "The correlation coefficients between 'Age' and 'Survived'  \r\n",
        "1. male, pclass = 1 : -0.270566\r\n",
        "2. male, pclass = 2 : -0.422569\r\n",
        "3. male, pclass = 3 : -0.146657\r\n",
        "4. female, pclass = 3 : -0.176617\r\n",
        "5. female, pclass = 1 : 0.12644\r\n",
        "6. female, pclass = 2 : -0.169067"
      ]
    },
    {
      "cell_type": "code",
      "metadata": {
        "id": "czjLUL1ar1A0"
      },
      "source": [
        "def survival_rate_age(x,data):\r\n",
        "    y = np.zeros(len(x))\r\n",
        "    max_age = data['Age'].max()\r\n",
        "    for i in range(len(x)) :\r\n",
        "        if (data['Age']<=x[i]).sum()==0 :\r\n",
        "            continue\r\n",
        "        if x[i]==max_age:\r\n",
        "            y[i]=y[i-1]\r\n",
        "            continue\r\n",
        "        y[i] = data.loc[data['Age']<=x[i],['Survived']].mean()\r\n",
        "    return y\r\n",
        "\r\n",
        "x = np.arange(0,80)\r\n",
        "\r\n",
        "fig , axe = plt.subplots(2,3,figsize=(20,15))\r\n",
        "for i,gender in enumerate(['male','female']):\r\n",
        "    for j in np.arange(1,4):\r\n",
        "        pclass_gender = train_data.loc[(~train_data['Age'].isna()) & (train_data['Sex']==gender) & (train_data['Pclass']==j),['Age','Survived']]\r\n",
        "        y = survival_rate_age(x,pclass_gender)\r\n",
        "        axe[i,j-1].plot(x,y)\r\n",
        "        axe[i,j-1].set_xlabel('Age')\r\n",
        "        axe[i,j-1].set_ylabel('Survival Rate')\r\n",
        "        axe[i,j-1].set_title('Cumulative Survival Rate for '+gender+' in Pclass '+str(j))\r\n",
        "plt.show()"
      ],
      "execution_count": null,
      "outputs": []
    },
    {
      "cell_type": "code",
      "metadata": {
        "id": "zgOsE6car0dF"
      },
      "source": [
        "condition = ~((train_data['Parch']!=0) |(train_data['SibSp']!=0))\r\n",
        "condition = condition & (train_data['Sex']=='male') & (train_data['Pclass']==1)\r\n",
        "condition = condition & (train_data['Age']>25)& (train_data['Age']<30)\r\n",
        "train_data.loc[condition,'Survived'].mean()"
      ],
      "execution_count": null,
      "outputs": []
    },
    {
      "cell_type": "markdown",
      "metadata": {
        "id": "yYGLPNUT6seX"
      },
      "source": [
        "## Explore the relation between Fare and Pclass\r\n",
        "\r\n",
        "There are 15 people whose fare is 0."
      ]
    },
    {
      "cell_type": "code",
      "metadata": {
        "colab": {
          "base_uri": "https://localhost:8080/"
        },
        "id": "8KE8CZ746vr1",
        "outputId": "8b18de1f-bcfb-470f-dd64-5a91d03e1531"
      },
      "source": [
        "fare_pclass = np.empty([3,4])\r\n",
        "for i in np.arange(1,4):\r\n",
        "    temp = train_data.loc[train_data['Pclass']==i,['Fare']]\r\n",
        "    fare_pclass[i-1] = [i,temp.min(),temp.max(),temp.mean()]\r\n",
        "\r\n",
        "fare_pclass = pd.DataFrame(fare_pclass,columns=['Pclass','Min','Max','Mean'])\r\n",
        "\r\n",
        "print(fare_pclass)"
      ],
      "execution_count": 18,
      "outputs": [
        {
          "output_type": "stream",
          "text": [
            "   Pclass  Min       Max       Mean\n",
            "0     1.0  0.0  512.3292  84.154687\n",
            "1     2.0  0.0   73.5000  20.662183\n",
            "2     3.0  0.0   69.5500  13.675550\n"
          ],
          "name": "stdout"
        }
      ]
    },
    {
      "cell_type": "markdown",
      "metadata": {
        "id": "zee76yFa64ip"
      },
      "source": [
        "## Explore other features"
      ]
    },
    {
      "cell_type": "markdown",
      "metadata": {
        "id": "3-3dBfEy68dj"
      },
      "source": [
        "### Study families on board\r\n",
        "\r\n",
        "The first task is to group family members. The intuitive method is to use family names. However the drawback is that two different families can share the same family name. An alternative is based on the observation that the ticket numbers for family members are the same. But there is still a little chance that different families share the same family name and the same ticket number. Luckily, there is no such issue in this example. Instead, we find that family members can have different family names. There are 5 such instances and their ticket numbers are: '113505', '13502', '230433', '24160', '36947', 'C.A. 33112'.\r\n",
        "\r\n",
        "In the end, if we use the criterion that if passengers have the same ticket numbers and either of their SibSp or Parch is nonzero, then they belong to the same family, it yields the accurate the conclusion that they belong to the same family."
      ]
    },
    {
      "cell_type": "code",
      "metadata": {
        "id": "SNCXbz3B7HiN"
      },
      "source": [
        "'''\r\n",
        "# This code is used in previous version to locate problematic cases\r\n",
        "family_features = []\r\n",
        "for i,flag in enumerate((train_data['Parch']!=0) |(train_data['SibSp']!=0)):\r\n",
        "    if flag:\r\n",
        "        family_features.append(train_data.loc[i,'Ticket'])\r\n",
        "        \r\n",
        "family_features = np.unique(family_features)\r\n",
        "\r\n",
        "family_features1 = []\r\n",
        "for i,flag in enumerate((train_data['Parch']!=0) |(train_data['SibSp']!=0)):\r\n",
        "    if flag:\r\n",
        "        temp = train_data.loc[i,'Name'].split(',')[0]\r\n",
        "        family_features1.append(temp+','+train_data.loc[i,'Ticket'])\r\n",
        "        \r\n",
        "family_features1 = np.unique(family_features1)\r\n",
        "\r\n",
        "count = np.zeros(len(family_features1))\r\n",
        "for notation in family_features1:\r\n",
        "    temp = notation.split(',')[-1]\r\n",
        "    for j,test in enumerate(family_features):\r\n",
        "        if test==temp:\r\n",
        "            count[j]+=1\r\n",
        "            break\r\n",
        "'''"
      ],
      "execution_count": null,
      "outputs": []
    },
    {
      "cell_type": "markdown",
      "metadata": {
        "id": "_V9UYZxV7IMD"
      },
      "source": [
        "The following graph demonstrates the survival connectedness inside a family. At the first sight, it seems that if a family member survives, then other family members are more likely to survive."
      ]
    },
    {
      "cell_type": "code",
      "metadata": {
        "colab": {
          "base_uri": "https://localhost:8080/",
          "height": 295
        },
        "id": "n647RR_k_PUd",
        "outputId": "af0efab7-0b32-4347-ec07-695c8ad28c55"
      },
      "source": [
        "# classify families by ticket numbers\r\n",
        "family_ticket = []\r\n",
        "for i,flag in enumerate((train_data['Parch']!=0) |(train_data['SibSp']!=0)):\r\n",
        "    if flag:\r\n",
        "        family_ticket.append(train_data.loc[i,'Ticket'])\r\n",
        "        \r\n",
        "family_ticket = np.unique(family_ticket)\r\n",
        "        \r\n",
        "\r\n",
        "# Compute the survival rate by family\r\n",
        "survival_rate_family = np.zeros(len(family_ticket))\r\n",
        "total = np.zeros(len(family_ticket))\r\n",
        "freq = np.zeros(len(family_ticket))\r\n",
        "for i,flag in enumerate((train_data['Parch']!=0) |(train_data['SibSp']!=0)):\r\n",
        "    if flag:\r\n",
        "        for j,ticket_num in enumerate(family_ticket):\r\n",
        "            if train_data.loc[i,'Ticket']==ticket_num:\r\n",
        "                total[j] +=1\r\n",
        "                freq[j] +=train_data.loc[i,'Survived']\r\n",
        "            \r\n",
        "for i in range(len(family_ticket)):\r\n",
        "    survival_rate_family[i] = freq[i]/total[i]\r\n",
        "\r\n",
        "    \r\n",
        "# Draw the count plot to show the distribution of families with respect to survival rates    \r\n",
        "temp = np.unique(survival_rate_family)\r\n",
        "temp_count = np.zeros(len(temp))\r\n",
        "for i in range(len(survival_rate_family)):\r\n",
        "    for j in range(len(temp)):\r\n",
        "        if temp[j]==survival_rate_family[i]:\r\n",
        "            temp_count[j]+=1\r\n",
        "            break\r\n",
        "            \r\n",
        "fig , ax = plt.subplots()\r\n",
        "x = np.arange(1,len(temp)+1)\r\n",
        "x_labels = np.empty(len(temp),dtype=(np.unicode_,5))\r\n",
        "for i in range(len(temp)):\r\n",
        "    x_labels[i] = str.format('{:1.3f}',temp[i])\r\n",
        "ax.bar(x,temp_count)\r\n",
        "ax.set_xticks(x)\r\n",
        "ax.set_xticklabels(x_labels)\r\n",
        "ax.set_xlabel('Survival Rate')\r\n",
        "ax.set_ylabel('Family Counts')\r\n",
        "ax.set_title('Survival Rate by Family')\r\n",
        "plt.show()    "
      ],
      "execution_count": 17,
      "outputs": [
        {
          "output_type": "display_data",
          "data": {
            "image/png": "[encoded data removed]",
            "text/plain": [
              "<Figure size 432x288 with 1 Axes>"
            ]
          },
          "metadata": {
            "tags": [],
            "needs_background": "light"
          }
        }
      ]
    },
    {
      "cell_type": "code",
      "metadata": {
        "colab": {
          "base_uri": "https://localhost:8080/"
        },
        "id": "1kYf3mKUzt_J",
        "outputId": "48635caa-b8e4-4837-fe12-4f9104507470"
      },
      "source": [
        "train_data['Ticket']"
      ],
      "execution_count": 290,
      "outputs": [
        {
          "output_type": "execute_result",
          "data": {
            "text/plain": [
              "0             A/5 21171\n",
              "1              PC 17599\n",
              "2      STON/O2. 3101282\n",
              "3                113803\n",
              "4                373450\n",
              "             ...       \n",
              "886              211536\n",
              "887              112053\n",
              "888          W./C. 6607\n",
              "889              111369\n",
              "890              370376\n",
              "Name: Ticket, Length: 891, dtype: object"
            ]
          },
          "metadata": {
            "tags": []
          },
          "execution_count": 290
        }
      ]
    },
    {
      "cell_type": "code",
      "metadata": {
        "id": "ZH6rDkKN7UJl"
      },
      "source": [
        "my_set = []\r\n",
        "for i in range(len(family_ticket)):\r\n",
        "    if survival_rate_family[i]>0:\r\n",
        "        my_set.append(family_ticket[i])\r\n",
        "\r\n",
        "location = []\r\n",
        "for i in train_data['Ticket']:\r\n",
        "  location.append((i in my_set))\r\n",
        "location = ((train_data['SibSp']!= 0) | (train_data['Parch'])) & location\r\n"
      ],
      "execution_count": 362,
      "outputs": []
    },
    {
      "cell_type": "code",
      "metadata": {
        "colab": {
          "base_uri": "https://localhost:8080/",
          "height": 1000
        },
        "id": "igFKeIHW0_Qs",
        "outputId": "53ba6db4-a811-4e8f-9a53-e00ae7137e21"
      },
      "source": [
        "train_data.loc[location & (train_data['Pclass']==1) & (train_data['Sex']=='male') ].sort_values(by=['Fare'])"
      ],
      "execution_count": 367,
      "outputs": [
        {
          "output_type": "execute_result",
          "data": {
            "text/html": [
              "<div>\n",
              "<style scoped>\n",
              "    .dataframe tbody tr th:only-of-type {\n",
              "        vertical-align: middle;\n",
              "    }\n",
              "\n",
              "    .dataframe tbody tr th {\n",
              "        vertical-align: top;\n",
              "    }\n",
              "\n",
              "    .dataframe thead th {\n",
              "        text-align: right;\n",
              "    }\n",
              "</style>\n",
              "<table border=\"1\" class=\"dataframe\">\n",
              "  <thead>\n",
              "    <tr style=\"text-align: right;\">\n",
              "      <th></th>\n",
              "      <th>PassengerId</th>\n",
              "      <th>Survived</th>\n",
              "      <th>Pclass</th>\n",
              "      <th>Name</th>\n",
              "      <th>Sex</th>\n",
              "      <th>Age</th>\n",
              "      <th>SibSp</th>\n",
              "      <th>Parch</th>\n",
              "      <th>Ticket</th>\n",
              "      <th>Fare</th>\n",
              "      <th>Cabin</th>\n",
              "      <th>Embarked</th>\n",
              "    </tr>\n",
              "  </thead>\n",
              "  <tbody>\n",
              "    <tr>\n",
              "      <th>712</th>\n",
              "      <td>713</td>\n",
              "      <td>1</td>\n",
              "      <td>1</td>\n",
              "      <td>Taylor, Mr. Elmer Zebley</td>\n",
              "      <td>male</td>\n",
              "      <td>48.00</td>\n",
              "      <td>1</td>\n",
              "      <td>0</td>\n",
              "      <td>19996</td>\n",
              "      <td>52.0000</td>\n",
              "      <td>C126</td>\n",
              "      <td>S</td>\n",
              "    </tr>\n",
              "    <tr>\n",
              "      <th>35</th>\n",
              "      <td>36</td>\n",
              "      <td>0</td>\n",
              "      <td>1</td>\n",
              "      <td>Holverson, Mr. Alexander Oskar</td>\n",
              "      <td>male</td>\n",
              "      <td>42.00</td>\n",
              "      <td>1</td>\n",
              "      <td>0</td>\n",
              "      <td>113789</td>\n",
              "      <td>52.0000</td>\n",
              "      <td>NaN</td>\n",
              "      <td>S</td>\n",
              "    </tr>\n",
              "    <tr>\n",
              "      <th>621</th>\n",
              "      <td>622</td>\n",
              "      <td>1</td>\n",
              "      <td>1</td>\n",
              "      <td>Kimball, Mr. Edwin Nelson Jr</td>\n",
              "      <td>male</td>\n",
              "      <td>42.00</td>\n",
              "      <td>1</td>\n",
              "      <td>0</td>\n",
              "      <td>11753</td>\n",
              "      <td>52.5542</td>\n",
              "      <td>D19</td>\n",
              "      <td>S</td>\n",
              "    </tr>\n",
              "    <tr>\n",
              "      <th>248</th>\n",
              "      <td>249</td>\n",
              "      <td>1</td>\n",
              "      <td>1</td>\n",
              "      <td>Beckwith, Mr. Richard Leonard</td>\n",
              "      <td>male</td>\n",
              "      <td>37.00</td>\n",
              "      <td>1</td>\n",
              "      <td>1</td>\n",
              "      <td>11751</td>\n",
              "      <td>52.5542</td>\n",
              "      <td>D35</td>\n",
              "      <td>S</td>\n",
              "    </tr>\n",
              "    <tr>\n",
              "      <th>724</th>\n",
              "      <td>725</td>\n",
              "      <td>1</td>\n",
              "      <td>1</td>\n",
              "      <td>Chambers, Mr. Norman Campbell</td>\n",
              "      <td>male</td>\n",
              "      <td>27.00</td>\n",
              "      <td>1</td>\n",
              "      <td>0</td>\n",
              "      <td>113806</td>\n",
              "      <td>53.1000</td>\n",
              "      <td>E8</td>\n",
              "      <td>S</td>\n",
              "    </tr>\n",
              "    <tr>\n",
              "      <th>137</th>\n",
              "      <td>138</td>\n",
              "      <td>0</td>\n",
              "      <td>1</td>\n",
              "      <td>Futrelle, Mr. Jacques Heath</td>\n",
              "      <td>male</td>\n",
              "      <td>37.00</td>\n",
              "      <td>1</td>\n",
              "      <td>0</td>\n",
              "      <td>113803</td>\n",
              "      <td>53.1000</td>\n",
              "      <td>C123</td>\n",
              "      <td>S</td>\n",
              "    </tr>\n",
              "    <tr>\n",
              "      <th>370</th>\n",
              "      <td>371</td>\n",
              "      <td>1</td>\n",
              "      <td>1</td>\n",
              "      <td>Harder, Mr. George Achilles</td>\n",
              "      <td>male</td>\n",
              "      <td>25.00</td>\n",
              "      <td>1</td>\n",
              "      <td>0</td>\n",
              "      <td>11765</td>\n",
              "      <td>55.4417</td>\n",
              "      <td>E50</td>\n",
              "      <td>C</td>\n",
              "    </tr>\n",
              "    <tr>\n",
              "      <th>434</th>\n",
              "      <td>435</td>\n",
              "      <td>0</td>\n",
              "      <td>1</td>\n",
              "      <td>Silvey, Mr. William Baird</td>\n",
              "      <td>male</td>\n",
              "      <td>50.00</td>\n",
              "      <td>1</td>\n",
              "      <td>0</td>\n",
              "      <td>13507</td>\n",
              "      <td>55.9000</td>\n",
              "      <td>E44</td>\n",
              "      <td>S</td>\n",
              "    </tr>\n",
              "    <tr>\n",
              "      <th>599</th>\n",
              "      <td>600</td>\n",
              "      <td>1</td>\n",
              "      <td>1</td>\n",
              "      <td>Duff Gordon, Sir. Cosmo Edmund (\"Mr Morgan\")</td>\n",
              "      <td>male</td>\n",
              "      <td>49.00</td>\n",
              "      <td>1</td>\n",
              "      <td>0</td>\n",
              "      <td>PC 17485</td>\n",
              "      <td>56.9292</td>\n",
              "      <td>A20</td>\n",
              "      <td>C</td>\n",
              "    </tr>\n",
              "    <tr>\n",
              "      <th>690</th>\n",
              "      <td>691</td>\n",
              "      <td>1</td>\n",
              "      <td>1</td>\n",
              "      <td>Dick, Mr. Albert Adrian</td>\n",
              "      <td>male</td>\n",
              "      <td>31.00</td>\n",
              "      <td>1</td>\n",
              "      <td>0</td>\n",
              "      <td>17474</td>\n",
              "      <td>57.0000</td>\n",
              "      <td>B20</td>\n",
              "      <td>S</td>\n",
              "    </tr>\n",
              "    <tr>\n",
              "      <th>97</th>\n",
              "      <td>98</td>\n",
              "      <td>1</td>\n",
              "      <td>1</td>\n",
              "      <td>Greenfield, Mr. William Bertram</td>\n",
              "      <td>male</td>\n",
              "      <td>23.00</td>\n",
              "      <td>0</td>\n",
              "      <td>1</td>\n",
              "      <td>PC 17759</td>\n",
              "      <td>63.3583</td>\n",
              "      <td>D10 D12</td>\n",
              "      <td>C</td>\n",
              "    </tr>\n",
              "    <tr>\n",
              "      <th>336</th>\n",
              "      <td>337</td>\n",
              "      <td>0</td>\n",
              "      <td>1</td>\n",
              "      <td>Pears, Mr. Thomas Clinton</td>\n",
              "      <td>male</td>\n",
              "      <td>29.00</td>\n",
              "      <td>1</td>\n",
              "      <td>0</td>\n",
              "      <td>113776</td>\n",
              "      <td>66.6000</td>\n",
              "      <td>C2</td>\n",
              "      <td>S</td>\n",
              "    </tr>\n",
              "    <tr>\n",
              "      <th>745</th>\n",
              "      <td>746</td>\n",
              "      <td>0</td>\n",
              "      <td>1</td>\n",
              "      <td>Crosby, Capt. Edward Gifford</td>\n",
              "      <td>male</td>\n",
              "      <td>70.00</td>\n",
              "      <td>1</td>\n",
              "      <td>1</td>\n",
              "      <td>WE/P 5735</td>\n",
              "      <td>71.0000</td>\n",
              "      <td>B22</td>\n",
              "      <td>S</td>\n",
              "    </tr>\n",
              "    <tr>\n",
              "      <th>645</th>\n",
              "      <td>646</td>\n",
              "      <td>1</td>\n",
              "      <td>1</td>\n",
              "      <td>Harper, Mr. Henry Sleeper</td>\n",
              "      <td>male</td>\n",
              "      <td>48.00</td>\n",
              "      <td>1</td>\n",
              "      <td>0</td>\n",
              "      <td>PC 17572</td>\n",
              "      <td>76.7292</td>\n",
              "      <td>D33</td>\n",
              "      <td>C</td>\n",
              "    </tr>\n",
              "    <tr>\n",
              "      <th>587</th>\n",
              "      <td>588</td>\n",
              "      <td>1</td>\n",
              "      <td>1</td>\n",
              "      <td>Frolicher-Stehli, Mr. Maxmillian</td>\n",
              "      <td>male</td>\n",
              "      <td>60.00</td>\n",
              "      <td>1</td>\n",
              "      <td>1</td>\n",
              "      <td>13567</td>\n",
              "      <td>79.2000</td>\n",
              "      <td>B41</td>\n",
              "      <td>C</td>\n",
              "    </tr>\n",
              "    <tr>\n",
              "      <th>262</th>\n",
              "      <td>263</td>\n",
              "      <td>0</td>\n",
              "      <td>1</td>\n",
              "      <td>Taussig, Mr. Emil</td>\n",
              "      <td>male</td>\n",
              "      <td>52.00</td>\n",
              "      <td>1</td>\n",
              "      <td>1</td>\n",
              "      <td>110413</td>\n",
              "      <td>79.6500</td>\n",
              "      <td>E67</td>\n",
              "      <td>S</td>\n",
              "    </tr>\n",
              "    <tr>\n",
              "      <th>445</th>\n",
              "      <td>446</td>\n",
              "      <td>1</td>\n",
              "      <td>1</td>\n",
              "      <td>Dodge, Master. Washington</td>\n",
              "      <td>male</td>\n",
              "      <td>4.00</td>\n",
              "      <td>0</td>\n",
              "      <td>2</td>\n",
              "      <td>33638</td>\n",
              "      <td>81.8583</td>\n",
              "      <td>A34</td>\n",
              "      <td>S</td>\n",
              "    </tr>\n",
              "    <tr>\n",
              "      <th>34</th>\n",
              "      <td>35</td>\n",
              "      <td>0</td>\n",
              "      <td>1</td>\n",
              "      <td>Meyer, Mr. Edgar Joseph</td>\n",
              "      <td>male</td>\n",
              "      <td>28.00</td>\n",
              "      <td>1</td>\n",
              "      <td>0</td>\n",
              "      <td>PC 17604</td>\n",
              "      <td>82.1708</td>\n",
              "      <td>NaN</td>\n",
              "      <td>C</td>\n",
              "    </tr>\n",
              "    <tr>\n",
              "      <th>62</th>\n",
              "      <td>63</td>\n",
              "      <td>0</td>\n",
              "      <td>1</td>\n",
              "      <td>Harris, Mr. Henry Birkhardt</td>\n",
              "      <td>male</td>\n",
              "      <td>45.00</td>\n",
              "      <td>1</td>\n",
              "      <td>0</td>\n",
              "      <td>36973</td>\n",
              "      <td>83.4750</td>\n",
              "      <td>C83</td>\n",
              "      <td>S</td>\n",
              "    </tr>\n",
              "    <tr>\n",
              "      <th>453</th>\n",
              "      <td>454</td>\n",
              "      <td>1</td>\n",
              "      <td>1</td>\n",
              "      <td>Goldenberg, Mr. Samuel L</td>\n",
              "      <td>male</td>\n",
              "      <td>49.00</td>\n",
              "      <td>1</td>\n",
              "      <td>0</td>\n",
              "      <td>17453</td>\n",
              "      <td>89.1042</td>\n",
              "      <td>C92</td>\n",
              "      <td>C</td>\n",
              "    </tr>\n",
              "    <tr>\n",
              "      <th>245</th>\n",
              "      <td>246</td>\n",
              "      <td>0</td>\n",
              "      <td>1</td>\n",
              "      <td>Minahan, Dr. William Edward</td>\n",
              "      <td>male</td>\n",
              "      <td>44.00</td>\n",
              "      <td>2</td>\n",
              "      <td>0</td>\n",
              "      <td>19928</td>\n",
              "      <td>90.0000</td>\n",
              "      <td>C78</td>\n",
              "      <td>Q</td>\n",
              "    </tr>\n",
              "    <tr>\n",
              "      <th>224</th>\n",
              "      <td>225</td>\n",
              "      <td>1</td>\n",
              "      <td>1</td>\n",
              "      <td>Hoyt, Mr. Frederick Maxfield</td>\n",
              "      <td>male</td>\n",
              "      <td>38.00</td>\n",
              "      <td>1</td>\n",
              "      <td>0</td>\n",
              "      <td>19943</td>\n",
              "      <td>90.0000</td>\n",
              "      <td>C93</td>\n",
              "      <td>S</td>\n",
              "    </tr>\n",
              "    <tr>\n",
              "      <th>484</th>\n",
              "      <td>485</td>\n",
              "      <td>1</td>\n",
              "      <td>1</td>\n",
              "      <td>Bishop, Mr. Dickinson H</td>\n",
              "      <td>male</td>\n",
              "      <td>25.00</td>\n",
              "      <td>1</td>\n",
              "      <td>0</td>\n",
              "      <td>11967</td>\n",
              "      <td>91.0792</td>\n",
              "      <td>B49</td>\n",
              "      <td>C</td>\n",
              "    </tr>\n",
              "    <tr>\n",
              "      <th>505</th>\n",
              "      <td>506</td>\n",
              "      <td>0</td>\n",
              "      <td>1</td>\n",
              "      <td>Penasco y Castellana, Mr. Victor de Satode</td>\n",
              "      <td>male</td>\n",
              "      <td>18.00</td>\n",
              "      <td>1</td>\n",
              "      <td>0</td>\n",
              "      <td>PC 17758</td>\n",
              "      <td>108.9000</td>\n",
              "      <td>C65</td>\n",
              "      <td>C</td>\n",
              "    </tr>\n",
              "    <tr>\n",
              "      <th>698</th>\n",
              "      <td>699</td>\n",
              "      <td>0</td>\n",
              "      <td>1</td>\n",
              "      <td>Thayer, Mr. John Borland</td>\n",
              "      <td>male</td>\n",
              "      <td>49.00</td>\n",
              "      <td>1</td>\n",
              "      <td>1</td>\n",
              "      <td>17421</td>\n",
              "      <td>110.8833</td>\n",
              "      <td>C68</td>\n",
              "      <td>C</td>\n",
              "    </tr>\n",
              "    <tr>\n",
              "      <th>550</th>\n",
              "      <td>551</td>\n",
              "      <td>1</td>\n",
              "      <td>1</td>\n",
              "      <td>Thayer, Mr. John Borland Jr</td>\n",
              "      <td>male</td>\n",
              "      <td>17.00</td>\n",
              "      <td>0</td>\n",
              "      <td>2</td>\n",
              "      <td>17421</td>\n",
              "      <td>110.8833</td>\n",
              "      <td>C70</td>\n",
              "      <td>C</td>\n",
              "    </tr>\n",
              "    <tr>\n",
              "      <th>659</th>\n",
              "      <td>660</td>\n",
              "      <td>0</td>\n",
              "      <td>1</td>\n",
              "      <td>Newell, Mr. Arthur Webster</td>\n",
              "      <td>male</td>\n",
              "      <td>58.00</td>\n",
              "      <td>0</td>\n",
              "      <td>2</td>\n",
              "      <td>35273</td>\n",
              "      <td>113.2750</td>\n",
              "      <td>D48</td>\n",
              "      <td>C</td>\n",
              "    </tr>\n",
              "    <tr>\n",
              "      <th>390</th>\n",
              "      <td>391</td>\n",
              "      <td>1</td>\n",
              "      <td>1</td>\n",
              "      <td>Carter, Mr. William Ernest</td>\n",
              "      <td>male</td>\n",
              "      <td>36.00</td>\n",
              "      <td>1</td>\n",
              "      <td>2</td>\n",
              "      <td>113760</td>\n",
              "      <td>120.0000</td>\n",
              "      <td>B96 B98</td>\n",
              "      <td>S</td>\n",
              "    </tr>\n",
              "    <tr>\n",
              "      <th>802</th>\n",
              "      <td>803</td>\n",
              "      <td>1</td>\n",
              "      <td>1</td>\n",
              "      <td>Carter, Master. William Thornton II</td>\n",
              "      <td>male</td>\n",
              "      <td>11.00</td>\n",
              "      <td>1</td>\n",
              "      <td>2</td>\n",
              "      <td>113760</td>\n",
              "      <td>120.0000</td>\n",
              "      <td>B96 B98</td>\n",
              "      <td>S</td>\n",
              "    </tr>\n",
              "    <tr>\n",
              "      <th>660</th>\n",
              "      <td>661</td>\n",
              "      <td>1</td>\n",
              "      <td>1</td>\n",
              "      <td>Frauenthal, Dr. Henry William</td>\n",
              "      <td>male</td>\n",
              "      <td>50.00</td>\n",
              "      <td>2</td>\n",
              "      <td>0</td>\n",
              "      <td>PC 17611</td>\n",
              "      <td>133.6500</td>\n",
              "      <td>NaN</td>\n",
              "      <td>S</td>\n",
              "    </tr>\n",
              "    <tr>\n",
              "      <th>305</th>\n",
              "      <td>306</td>\n",
              "      <td>1</td>\n",
              "      <td>1</td>\n",
              "      <td>Allison, Master. Hudson Trevor</td>\n",
              "      <td>male</td>\n",
              "      <td>0.92</td>\n",
              "      <td>1</td>\n",
              "      <td>2</td>\n",
              "      <td>113781</td>\n",
              "      <td>151.5500</td>\n",
              "      <td>C22 C26</td>\n",
              "      <td>S</td>\n",
              "    </tr>\n",
              "    <tr>\n",
              "      <th>332</th>\n",
              "      <td>333</td>\n",
              "      <td>0</td>\n",
              "      <td>1</td>\n",
              "      <td>Graham, Mr. George Edward</td>\n",
              "      <td>male</td>\n",
              "      <td>38.00</td>\n",
              "      <td>0</td>\n",
              "      <td>1</td>\n",
              "      <td>PC 17582</td>\n",
              "      <td>153.4625</td>\n",
              "      <td>C91</td>\n",
              "      <td>S</td>\n",
              "    </tr>\n",
              "    <tr>\n",
              "      <th>118</th>\n",
              "      <td>119</td>\n",
              "      <td>0</td>\n",
              "      <td>1</td>\n",
              "      <td>Baxter, Mr. Quigg Edmond</td>\n",
              "      <td>male</td>\n",
              "      <td>24.00</td>\n",
              "      <td>0</td>\n",
              "      <td>1</td>\n",
              "      <td>PC 17558</td>\n",
              "      <td>247.5208</td>\n",
              "      <td>B58 B60</td>\n",
              "      <td>C</td>\n",
              "    </tr>\n",
              "    <tr>\n",
              "      <th>27</th>\n",
              "      <td>28</td>\n",
              "      <td>0</td>\n",
              "      <td>1</td>\n",
              "      <td>Fortune, Mr. Charles Alexander</td>\n",
              "      <td>male</td>\n",
              "      <td>19.00</td>\n",
              "      <td>3</td>\n",
              "      <td>2</td>\n",
              "      <td>19950</td>\n",
              "      <td>263.0000</td>\n",
              "      <td>C23 C25 C27</td>\n",
              "      <td>S</td>\n",
              "    </tr>\n",
              "    <tr>\n",
              "      <th>438</th>\n",
              "      <td>439</td>\n",
              "      <td>0</td>\n",
              "      <td>1</td>\n",
              "      <td>Fortune, Mr. Mark</td>\n",
              "      <td>male</td>\n",
              "      <td>64.00</td>\n",
              "      <td>1</td>\n",
              "      <td>4</td>\n",
              "      <td>19950</td>\n",
              "      <td>263.0000</td>\n",
              "      <td>C23 C25 C27</td>\n",
              "      <td>S</td>\n",
              "    </tr>\n",
              "    <tr>\n",
              "      <th>679</th>\n",
              "      <td>680</td>\n",
              "      <td>1</td>\n",
              "      <td>1</td>\n",
              "      <td>Cardeza, Mr. Thomas Drake Martinez</td>\n",
              "      <td>male</td>\n",
              "      <td>36.00</td>\n",
              "      <td>0</td>\n",
              "      <td>1</td>\n",
              "      <td>PC 17755</td>\n",
              "      <td>512.3292</td>\n",
              "      <td>B51 B53 B55</td>\n",
              "      <td>C</td>\n",
              "    </tr>\n",
              "  </tbody>\n",
              "</table>\n",
              "</div>"
            ],
            "text/plain": [
              "     PassengerId  Survived  Pclass  ...      Fare        Cabin  Embarked\n",
              "712          713         1       1  ...   52.0000         C126         S\n",
              "35            36         0       1  ...   52.0000          NaN         S\n",
              "621          622         1       1  ...   52.5542          D19         S\n",
              "248          249         1       1  ...   52.5542          D35         S\n",
              "724          725         1       1  ...   53.1000           E8         S\n",
              "137          138         0       1  ...   53.1000         C123         S\n",
              "370          371         1       1  ...   55.4417          E50         C\n",
              "434          435         0       1  ...   55.9000          E44         S\n",
              "599          600         1       1  ...   56.9292          A20         C\n",
              "690          691         1       1  ...   57.0000          B20         S\n",
              "97            98         1       1  ...   63.3583      D10 D12         C\n",
              "336          337         0       1  ...   66.6000           C2         S\n",
              "745          746         0       1  ...   71.0000          B22         S\n",
              "645          646         1       1  ...   76.7292          D33         C\n",
              "587          588         1       1  ...   79.2000          B41         C\n",
              "262          263         0       1  ...   79.6500          E67         S\n",
              "445          446         1       1  ...   81.8583          A34         S\n",
              "34            35         0       1  ...   82.1708          NaN         C\n",
              "62            63         0       1  ...   83.4750          C83         S\n",
              "453          454         1       1  ...   89.1042          C92         C\n",
              "245          246         0       1  ...   90.0000          C78         Q\n",
              "224          225         1       1  ...   90.0000          C93         S\n",
              "484          485         1       1  ...   91.0792          B49         C\n",
              "505          506         0       1  ...  108.9000          C65         C\n",
              "698          699         0       1  ...  110.8833          C68         C\n",
              "550          551         1       1  ...  110.8833          C70         C\n",
              "659          660         0       1  ...  113.2750          D48         C\n",
              "390          391         1       1  ...  120.0000      B96 B98         S\n",
              "802          803         1       1  ...  120.0000      B96 B98         S\n",
              "660          661         1       1  ...  133.6500          NaN         S\n",
              "305          306         1       1  ...  151.5500      C22 C26         S\n",
              "332          333         0       1  ...  153.4625          C91         S\n",
              "118          119         0       1  ...  247.5208      B58 B60         C\n",
              "27            28         0       1  ...  263.0000  C23 C25 C27         S\n",
              "438          439         0       1  ...  263.0000  C23 C25 C27         S\n",
              "679          680         1       1  ...  512.3292  B51 B53 B55         C\n",
              "\n",
              "[36 rows x 12 columns]"
            ]
          },
          "metadata": {
            "tags": []
          },
          "execution_count": 367
        }
      ]
    },
    {
      "cell_type": "markdown",
      "metadata": {
        "id": "wkkMHhoE7XjC"
      },
      "source": [
        "After a detailed study, for families having 50% survival rate, the above survival connectedness does not apply. On the other hand, we found a astonishing fact that for people in all classes, all female family members and kid survived. However all other male family members did not survive. However lifeboats were limited, all men still sticked to their conscience and behaved like gentlemen.\r\n",
        "\r\n",
        "It seems that for people in 2nd and 3rd, they were more willing to keep the discipline. Or maybe, when it was their turns, they had little choices and people in 1st class had priority to board on lifeboats. For people in 1st, it is like 50-50 that people kept this discipline and people did not. \r\n",
        "\r\n",
        "At the end, we come up with the following way to define the survival connectedness.\r\n",
        "\r\n",
        "1. The default survival connectedness for all passengers are 0.5.\r\n",
        "2. For male adults in pclass 1, their survival connectedness are 0.5. For male adults in pclass 2 and 3, their survival connectedness are 0.\r\n",
        "3. For kids and females in pclass 1 and pclass, their survial connectedness are 1.\r\n",
        "4. For kids and females in the 3rd pclass, set their survival connectedness due to 1 or 0 due to the surival rate of the family. If it is not zero, set it to 1, otherwise set it to 0.  \r\n",
        "\r\n",
        "In a word, we do the classification by hand."
      ]
    },
    {
      "cell_type": "markdown",
      "metadata": {
        "id": "zwFoXiNP7ZKz"
      },
      "source": [
        "The sum of SibSp and Parch of one passenger may not reveal the family size. For example, Minahan, Dr. William Edward is the spouse of Minahan, Mrs. William Edward and the sibling of Minahan, Miss. Daisy E, then his SibSp is 2. But Minahan, Miss. Daisy E is not a sibling of Minahan, Mrs. William Edward. She is a sibling by law. In the data set, it does not count such case. Therefore SibSp of Minahan, Miss. Daisy E is 1. However this case only occurs a few times and for simplicity, let us just add SisSp and Parch together."
      ]
    },
    {
      "cell_type": "code",
      "metadata": {
        "colab": {
          "base_uri": "https://localhost:8080/",
          "height": 138
        },
        "id": "tes135Tp7dDC",
        "outputId": "ef5114f4-2411-45ce-b8c2-601832e02a56"
      },
      "source": [
        "pd.concat([train_data[train_data['Ticket']=='19928'],test_data[test_data['Ticket']=='19928']],axis=0)"
      ],
      "execution_count": 19,
      "outputs": [
        {
          "output_type": "execute_result",
          "data": {
            "text/html": [
              "<div>\n",
              "<style scoped>\n",
              "    .dataframe tbody tr th:only-of-type {\n",
              "        vertical-align: middle;\n",
              "    }\n",
              "\n",
              "    .dataframe tbody tr th {\n",
              "        vertical-align: top;\n",
              "    }\n",
              "\n",
              "    .dataframe thead th {\n",
              "        text-align: right;\n",
              "    }\n",
              "</style>\n",
              "<table border=\"1\" class=\"dataframe\">\n",
              "  <thead>\n",
              "    <tr style=\"text-align: right;\">\n",
              "      <th></th>\n",
              "      <th>PassengerId</th>\n",
              "      <th>Survived</th>\n",
              "      <th>Pclass</th>\n",
              "      <th>Name</th>\n",
              "      <th>Sex</th>\n",
              "      <th>Age</th>\n",
              "      <th>SibSp</th>\n",
              "      <th>Parch</th>\n",
              "      <th>Ticket</th>\n",
              "      <th>Fare</th>\n",
              "      <th>Cabin</th>\n",
              "      <th>Embarked</th>\n",
              "    </tr>\n",
              "  </thead>\n",
              "  <tbody>\n",
              "    <tr>\n",
              "      <th>245</th>\n",
              "      <td>246</td>\n",
              "      <td>0.0</td>\n",
              "      <td>1</td>\n",
              "      <td>Minahan, Dr. William Edward</td>\n",
              "      <td>male</td>\n",
              "      <td>44.0</td>\n",
              "      <td>2</td>\n",
              "      <td>0</td>\n",
              "      <td>19928</td>\n",
              "      <td>90.0</td>\n",
              "      <td>C78</td>\n",
              "      <td>Q</td>\n",
              "    </tr>\n",
              "    <tr>\n",
              "      <th>412</th>\n",
              "      <td>413</td>\n",
              "      <td>1.0</td>\n",
              "      <td>1</td>\n",
              "      <td>Minahan, Miss. Daisy E</td>\n",
              "      <td>female</td>\n",
              "      <td>33.0</td>\n",
              "      <td>1</td>\n",
              "      <td>0</td>\n",
              "      <td>19928</td>\n",
              "      <td>90.0</td>\n",
              "      <td>C78</td>\n",
              "      <td>Q</td>\n",
              "    </tr>\n",
              "    <tr>\n",
              "      <th>411</th>\n",
              "      <td>1303</td>\n",
              "      <td>NaN</td>\n",
              "      <td>1</td>\n",
              "      <td>Minahan, Mrs. William Edward (Lillian E Thorpe)</td>\n",
              "      <td>female</td>\n",
              "      <td>37.0</td>\n",
              "      <td>1</td>\n",
              "      <td>0</td>\n",
              "      <td>19928</td>\n",
              "      <td>90.0</td>\n",
              "      <td>C78</td>\n",
              "      <td>Q</td>\n",
              "    </tr>\n",
              "  </tbody>\n",
              "</table>\n",
              "</div>"
            ],
            "text/plain": [
              "     PassengerId  Survived  Pclass  ...  Fare Cabin  Embarked\n",
              "245          246       0.0       1  ...  90.0   C78         Q\n",
              "412          413       1.0       1  ...  90.0   C78         Q\n",
              "411         1303       NaN       1  ...  90.0   C78         Q\n",
              "\n",
              "[3 rows x 12 columns]"
            ]
          },
          "metadata": {
            "tags": []
          },
          "execution_count": 19
        }
      ]
    },
    {
      "cell_type": "code",
      "metadata": {
        "id": "RMoT1rsZxe_R"
      },
      "source": [
        ""
      ],
      "execution_count": null,
      "outputs": []
    },
    {
      "cell_type": "markdown",
      "metadata": {
        "id": "wQwQn5g67i6i"
      },
      "source": [
        "### Survival Rate by Embarked"
      ]
    },
    {
      "cell_type": "code",
      "metadata": {
        "colab": {
          "base_uri": "https://localhost:8080/",
          "height": 281
        },
        "id": "VKSkG3v57l8M",
        "outputId": "8dfd15a0-0ebd-494c-eaac-c41dbb1de6cd"
      },
      "source": [
        "x_heights = np.zeros(3)\r\n",
        "labels = np.array(['S','Q','C'])\r\n",
        "for i,code in enumerate(labels):\r\n",
        "    x_heights[i] = train_data.loc[(~train_data['Embarked'].isna()) & (train_data['Embarked']==code),'Survived'].mean()\r\n",
        "\r\n",
        "fig , ax = plt.subplots()\r\n",
        "ax.bar(labels,x_heights)\r\n",
        "ax.set_ylabel('Survival Rate')\r\n",
        "ax.set_title('Survival Rate by Embarked')\r\n",
        "plt.show()"
      ],
      "execution_count": 21,
      "outputs": [
        {
          "output_type": "display_data",
          "data": {
            "image/png": "[encoded data removed]",
            "text/plain": [
              "<Figure size 432x288 with 1 Axes>"
            ]
          },
          "metadata": {
            "tags": [],
            "needs_background": "light"
          }
        }
      ]
    },
    {
      "cell_type": "markdown",
      "metadata": {
        "id": "23-XKSjT7pGX"
      },
      "source": [
        "### Survival Rate by Missing Cabin"
      ]
    },
    {
      "cell_type": "code",
      "metadata": {
        "colab": {
          "base_uri": "https://localhost:8080/",
          "height": 281
        },
        "id": "_pxI3rgk7o3B",
        "outputId": "bfee9b90-19b2-4361-9859-cdd8d99b6d2a"
      },
      "source": [
        "x_heights = np.zeros(3)\r\n",
        "x_heights[0] = train_data.loc[train_data['Cabin'].isna(),'Survived'].mean()\r\n",
        "x_heights[1] = train_data.loc[~train_data['Cabin'].isna(),'Survived'].mean()\r\n",
        "x_heights[2] = train_data['Survived'].mean()\r\n",
        "labels = ['Missing Cabin', 'Non-Missing Cabin', 'Total']\r\n",
        "\r\n",
        "fig , ax = plt.subplots()\r\n",
        "ax.bar(labels,x_heights)\r\n",
        "ax.set_ylabel('Survival Rate')\r\n",
        "ax.set_title('Survival Rate by Cabin')\r\n",
        "plt.show()"
      ],
      "execution_count": 22,
      "outputs": [
        {
          "output_type": "display_data",
          "data": {
            "image/png": "[encoded data removed]",
            "text/plain": [
              "<Figure size 432x288 with 1 Axes>"
            ]
          },
          "metadata": {
            "tags": [],
            "needs_background": "light"
          }
        }
      ]
    },
    {
      "cell_type": "markdown",
      "metadata": {
        "id": "isDDK4Do7u7g"
      },
      "source": [
        "Even in subgroups excluding female in 1st or 2nd pclass, Cabin data being missing still influences the survival rate.\r\n",
        "> Let us transform Cabin data into categorial data : 1 stands for that the data is not missing, 0 stands for that the data is missing."
      ]
    },
    {
      "cell_type": "code",
      "metadata": {
        "id": "cBhvtRfp7ogL"
      },
      "source": [
        "'''\r\n",
        "location = ((train_data['Pclass']==1) | (train_data['Pclass']==2)) & (train_data['Sex']=='female') \r\n",
        "train_data.loc[(~train_data['Cabin'].isna())& (~location),'Survived'].mean()\r\n",
        "'''"
      ],
      "execution_count": null,
      "outputs": []
    },
    {
      "cell_type": "markdown",
      "metadata": {
        "id": "XysrdfGI7zz2"
      },
      "source": [
        "## Title and Age"
      ]
    },
    {
      "cell_type": "code",
      "metadata": {
        "colab": {
          "base_uri": "https://localhost:8080/",
          "height": 301
        },
        "id": "-psxSF02_YTI",
        "outputId": "ce3d1a11-d24d-4384-b6eb-ec731f572fb2"
      },
      "source": [
        "title_train = train_data['Name'].str.extract(r'([A-Za-z]+)\\.', expand=False)\r\n",
        "title_test = test_data['Name'].str.extract(r'([A-Za-z]+)\\.', expand=False)\r\n",
        "\r\n",
        "title_age_train = pd.DataFrame(np.transpose([title_train,train_data['Age']]),columns=['Title','Age']).astype({'Age':'float64'})\r\n",
        "title_age_test = pd.DataFrame(np.transpose([title_test,test_data['Age']]),columns=['Title','Age']).astype({'Age':'float64'})\r\n",
        "title_age = pd.concat([title_age_train,title_age_test],axis=0,ignore_index=True)\r\n",
        "\r\n",
        "title = np.unique(np.concatenate([title_test,title_train]))\r\n",
        "\r\n",
        "title_nums = np.zeros(len(title))\r\n",
        "for i in range(len(title_age.index)):\r\n",
        "    for j in range(len(title)):\r\n",
        "        if title[j]==title_age.loc[i,'Title']:\r\n",
        "            title_nums[j]+=1\r\n",
        "            break\r\n",
        "\r\n",
        "            \r\n",
        "title_cleaned = np.array(['Mr','Master','Mrs','Miss','Others'])\r\n",
        "title_nums_cleaned = np.zeros(5)\r\n",
        "for i in range(len(title)):\r\n",
        "    for j,flag in enumerate(['Mr','Master','Mrs','Miss','Others']):\r\n",
        "        if title[i]==flag:\r\n",
        "            title_nums_cleaned[j]=title_nums[i]\r\n",
        "            break\r\n",
        "        if j==4:\r\n",
        "            title_nums_cleaned[j]+=title_nums[i]\r\n",
        "            \r\n",
        "fig, ax = plt.subplots()\r\n",
        "ax.pie(title_nums_cleaned, labels=title_cleaned, autopct='%1.1f%%',\r\n",
        "        shadow=True, startangle=90)\r\n",
        "ax.axis('equal')\r\n",
        "ax.set_title('Distribution of Passengers by Titles')\r\n",
        "plt.show()    \r\n",
        "\r\n",
        "# Titles for passegners whose age is missing\r\n",
        "title_na = np.unique(title_age.loc[title_age['Age'].isna(),'Title'])\r\n",
        "\r\n",
        "title_age_distribution = []\r\n",
        "for i in range(len(title_na)):\r\n",
        "    title_age_distribution.append(title_age.loc[ (~title_age['Age'].isna()) & (title_age['Title']==title_na[i]),'Age'].values)  \r\n",
        "\r\n",
        "'''\r\n",
        "fig , ax =plt.subplots(3,2,figsize=(15,15))\r\n",
        "for i in range(3):\r\n",
        "    for j in range(2):\r\n",
        "        ax[i,j].hist(title_age_distribution[i*2+j])\r\n",
        "        ax[i,j].set_xlabel('Age')\r\n",
        "        ax[i,j].set_ylabel('Count of People')\r\n",
        "        ax[i,j].set_title('Distribution of Age for People with Title '+title_na[i*2+j])\r\n",
        "plt.show()\r\n",
        "'''    "
      ],
      "execution_count": 59,
      "outputs": [
        {
          "output_type": "display_data",
          "data": {
            "image/png": "[encoded data removed]",
            "text/plain": [
              "<Figure size 432x288 with 1 Axes>"
            ]
          },
          "metadata": {
            "tags": []
          }
        },
        {
          "output_type": "execute_result",
          "data": {
            "application/vnd.google.colaboratory.intrinsic+json": {
              "type": "string"
            },
            "text/plain": [
              "\"\\nfig , ax =plt.subplots(3,2,figsize=(15,15))\\nfor i in range(3):\\n    for j in range(2):\\n        ax[i,j].hist(title_age_distribution[i*2+j])\\n        ax[i,j].set_xlabel('Age')\\n        ax[i,j].set_ylabel('Count of People')\\n        ax[i,j].set_title('Distribution of Age for People with Title '+title_na[i*2+j])\\nplt.show()\\n\""
            ]
          },
          "metadata": {
            "tags": []
          },
          "execution_count": 59
        }
      ]
    },
    {
      "cell_type": "markdown",
      "metadata": {
        "id": "RII1TK0KoUYV"
      },
      "source": [
        "# Feature Transform"
      ]
    },
    {
      "cell_type": "markdown",
      "metadata": {
        "id": "cAPFfJOHoY0X"
      },
      "source": [
        "Based on discussions in Section analysis of data, we decide to select features from\r\n",
        "\r\n",
        "1. Sex\r\n",
        "2. Pclass\r\n",
        "3. Age\r\n",
        "4. Connectedness (Connected Survival)\r\n",
        "5. Embarked\r\n",
        "6. Cabin\r\n",
        "7. Family Size\r\n",
        "8. Title (It is somehow related to Age)\r\n",
        "9. Fare"
      ]
    },
    {
      "cell_type": "code",
      "metadata": {
        "id": "9tMPnR_O_mab"
      },
      "source": [
        "def data_transform(data,title_age,family_ticket,title_age_distribution):\r\n",
        "  global title_na\r\n",
        "  # Transform the categorial code 'Embarked' into numerical values \r\n",
        "  # S : 0.  Q : 1.  C : 2.\r\n",
        "  embarked = data['Embarked'].map({'S':0, 'Q':1, 'C':2}).fillna(1).to_frame('Embarked')\r\n",
        "\r\n",
        "  # Map exising cabin data and missing cabin data into 0 and 1.\r\n",
        "  cabin = np.zeros(len(data.index))\r\n",
        "  for i in data.index:\r\n",
        "    if pd.isna(data.loc[i,'Cabin']):\r\n",
        "      cabin[i] = 0\r\n",
        "    else:\r\n",
        "      cabin[i] = 1\r\n",
        "  cabin =pd.DataFrame(cabin,columns=['Cabin'])\r\n",
        "\r\n",
        "  # Transform the categorial data 'Sex' into numerical values \r\n",
        "  # male : 0.  female : 1.\r\n",
        "  sex = data['Sex'].map({'male':0,'female':1}).to_frame('Sex')\r\n",
        "  \r\n",
        "  # Pclass\r\n",
        "  pclass = data[['Pclass']]\r\n",
        "  \r\n",
        "  # fare\r\n",
        "  fare = data[['Fare']]\r\n",
        "\r\n",
        "  # Combine SibSp and Parch into the one feature family_size\r\n",
        "  # family_size = (data['SibSp']+data['Parch']+1).to_frame('FamilySize')\r\n",
        "  family_size = data[['SibSp','Parch']]\r\n",
        "\r\n",
        "  # Define a new feature connected survival \r\n",
        "  connected = np.zeros(len(data.index))+0.38\r\n",
        "  location =  (data['SibSp']!=0) | (data['Parch']!=0)\r\n",
        "  connected[ location & ((data['Pclass']==2)|(data['Pclass']==3)) & (data['Sex']=='male')]=0\r\n",
        "  connected[ location & ((data['Pclass']==1)|(data['Pclass']==2)) & (data['Sex']=='female')]=1\r\n",
        "  male_kids = (data['Name'].str.extract(r'([A-Za-z]+)\\.', expand=False)=='Master')\r\n",
        "  connected[ location & ((data['Pclass']==1)|(data['Pclass']==2)) & male_kids ]=1\r\n",
        "  my_set = []\r\n",
        "  for i in range(len(family_ticket)):\r\n",
        "    if survival_rate_family[i]>0:\r\n",
        "      my_set.append(family_ticket[i])\r\n",
        "      \r\n",
        "  for i,flag in enumerate(location):\r\n",
        "    if flag:\r\n",
        "      if male_kids[i] | (data.loc[i,'Sex']=='female') | (data.loc[i,'Pclass']==1):\r\n",
        "        if data.loc[i,'Ticket'] in my_set :\r\n",
        "          connected[i]=1\r\n",
        "        else :\r\n",
        "          connected[i]=0\r\n",
        "\r\n",
        "  male_kids = (data['Name'].str.extract(r'([A-Za-z]+)\\.', expand=False)=='Master')\r\n",
        "  connected[ location & ((data['Pclass']==2)|(data['Pclass']==3)) & (data['Sex']=='male') & (~male_kids )]=0\r\n",
        "  connected = pd.DataFrame(connected,columns=['Connected'])\r\n",
        "\r\n",
        "  title_age = title_age.copy()\r\n",
        "  # Impute Age by the mean in the responding title group \r\n",
        "  for i in title_age.index:\r\n",
        "    if pd.isna(title_age.loc[i,'Age']):\r\n",
        "      for j,flag in enumerate(title_na):\r\n",
        "        if title_age.loc[i,'Title']==title_na[j]:\r\n",
        "          title_age.loc[i,'Age']=title_age_distribution[j].mean()\r\n",
        "          break\r\n",
        "                \r\n",
        "  # Transform titles other: 0, Mr: 1, Mrs: 2, Miss: 3,  Master: 4.\r\n",
        "  for i in title_age.index:\r\n",
        "    flag1 = True\r\n",
        "    for j,flag in enumerate(['Mr','Mrs','Miss','Master']):\r\n",
        "      if flag == title_age.loc[i,'Title']:\r\n",
        "        title_age.loc[i,'Title']=j\r\n",
        "        flag1 = False\r\n",
        "        break\r\n",
        "    if flag1:\r\n",
        "      title_age.loc[i,'Title']=0\r\n",
        "        \r\n",
        "  title_age = title_age.astype({'Title':'int64'}) \r\n",
        "\r\n",
        "  # Combine all features together\r\n",
        "  X = pd.concat([sex,pclass,title_age,connected,cabin,family_size,embarked,fare],axis=1) \r\n",
        "  return X"
      ],
      "execution_count": 260,
      "outputs": []
    },
    {
      "cell_type": "code",
      "metadata": {
        "id": "pi48KYPrjt_M"
      },
      "source": [
        "X_train = data_transform(train_data,title_age_train,family_ticket,title_age_distribution)\r\n",
        "X_test = data_transform(test_data,title_age_test,family_ticket,title_age_distribution)\r\n",
        "y = train_data['Survived']"
      ],
      "execution_count": 261,
      "outputs": []
    },
    {
      "cell_type": "code",
      "metadata": {
        "colab": {
          "base_uri": "https://localhost:8080/",
          "height": 378
        },
        "id": "hgn4lfa0j_GB",
        "outputId": "6441e252-cc6f-4aa0-9688-d3169f0ca9aa"
      },
      "source": [
        "pd.concat([X_train,y],axis=1).corr()"
      ],
      "execution_count": 288,
      "outputs": [
        {
          "output_type": "execute_result",
          "data": {
            "text/html": [
              "<div>\n",
              "<style scoped>\n",
              "    .dataframe tbody tr th:only-of-type {\n",
              "        vertical-align: middle;\n",
              "    }\n",
              "\n",
              "    .dataframe tbody tr th {\n",
              "        vertical-align: top;\n",
              "    }\n",
              "\n",
              "    .dataframe thead th {\n",
              "        text-align: right;\n",
              "    }\n",
              "</style>\n",
              "<table border=\"1\" class=\"dataframe\">\n",
              "  <thead>\n",
              "    <tr style=\"text-align: right;\">\n",
              "      <th></th>\n",
              "      <th>Sex</th>\n",
              "      <th>Pclass</th>\n",
              "      <th>Title</th>\n",
              "      <th>Age</th>\n",
              "      <th>Connected</th>\n",
              "      <th>Cabin</th>\n",
              "      <th>SibSp</th>\n",
              "      <th>Parch</th>\n",
              "      <th>Embarked</th>\n",
              "      <th>Fare</th>\n",
              "      <th>Survived</th>\n",
              "    </tr>\n",
              "  </thead>\n",
              "  <tbody>\n",
              "    <tr>\n",
              "      <th>Sex</th>\n",
              "      <td>1.000000</td>\n",
              "      <td>-0.131900</td>\n",
              "      <td>0.681678</td>\n",
              "      <td>-0.114664</td>\n",
              "      <td>0.318579</td>\n",
              "      <td>0.140391</td>\n",
              "      <td>0.114631</td>\n",
              "      <td>0.245489</td>\n",
              "      <td>0.112094</td>\n",
              "      <td>0.182333</td>\n",
              "      <td>0.543351</td>\n",
              "    </tr>\n",
              "    <tr>\n",
              "      <th>Pclass</th>\n",
              "      <td>-0.131900</td>\n",
              "      <td>1.000000</td>\n",
              "      <td>-0.001368</td>\n",
              "      <td>-0.344338</td>\n",
              "      <td>-0.372341</td>\n",
              "      <td>-0.725541</td>\n",
              "      <td>0.083081</td>\n",
              "      <td>0.018443</td>\n",
              "      <td>-0.166521</td>\n",
              "      <td>-0.549500</td>\n",
              "      <td>-0.338481</td>\n",
              "    </tr>\n",
              "    <tr>\n",
              "      <th>Title</th>\n",
              "      <td>0.681678</td>\n",
              "      <td>-0.001368</td>\n",
              "      <td>1.000000</td>\n",
              "      <td>-0.459314</td>\n",
              "      <td>0.264420</td>\n",
              "      <td>0.055269</td>\n",
              "      <td>0.327899</td>\n",
              "      <td>0.348587</td>\n",
              "      <td>0.066527</td>\n",
              "      <td>0.146651</td>\n",
              "      <td>0.459406</td>\n",
              "    </tr>\n",
              "    <tr>\n",
              "      <th>Age</th>\n",
              "      <td>-0.114664</td>\n",
              "      <td>-0.344338</td>\n",
              "      <td>-0.459314</td>\n",
              "      <td>1.000000</td>\n",
              "      <td>-0.026490</td>\n",
              "      <td>0.235836</td>\n",
              "      <td>-0.266602</td>\n",
              "      <td>-0.196224</td>\n",
              "      <td>0.029800</td>\n",
              "      <td>0.091912</td>\n",
              "      <td>-0.087092</td>\n",
              "    </tr>\n",
              "    <tr>\n",
              "      <th>Connected</th>\n",
              "      <td>0.318579</td>\n",
              "      <td>-0.372341</td>\n",
              "      <td>0.264420</td>\n",
              "      <td>-0.026490</td>\n",
              "      <td>1.000000</td>\n",
              "      <td>0.344585</td>\n",
              "      <td>-0.093206</td>\n",
              "      <td>0.109541</td>\n",
              "      <td>0.127287</td>\n",
              "      <td>0.287465</td>\n",
              "      <td>0.594788</td>\n",
              "    </tr>\n",
              "    <tr>\n",
              "      <th>Cabin</th>\n",
              "      <td>0.140391</td>\n",
              "      <td>-0.725541</td>\n",
              "      <td>0.055269</td>\n",
              "      <td>0.235836</td>\n",
              "      <td>0.344585</td>\n",
              "      <td>1.000000</td>\n",
              "      <td>-0.040460</td>\n",
              "      <td>0.036987</td>\n",
              "      <td>0.165383</td>\n",
              "      <td>0.482075</td>\n",
              "      <td>0.316912</td>\n",
              "    </tr>\n",
              "    <tr>\n",
              "      <th>SibSp</th>\n",
              "      <td>0.114631</td>\n",
              "      <td>0.083081</td>\n",
              "      <td>0.327899</td>\n",
              "      <td>-0.266602</td>\n",
              "      <td>-0.093206</td>\n",
              "      <td>-0.040460</td>\n",
              "      <td>1.000000</td>\n",
              "      <td>0.414838</td>\n",
              "      <td>-0.069568</td>\n",
              "      <td>0.159651</td>\n",
              "      <td>-0.035322</td>\n",
              "    </tr>\n",
              "    <tr>\n",
              "      <th>Parch</th>\n",
              "      <td>0.245489</td>\n",
              "      <td>0.018443</td>\n",
              "      <td>0.348587</td>\n",
              "      <td>-0.196224</td>\n",
              "      <td>0.109541</td>\n",
              "      <td>0.036987</td>\n",
              "      <td>0.414838</td>\n",
              "      <td>1.000000</td>\n",
              "      <td>-0.041137</td>\n",
              "      <td>0.216225</td>\n",
              "      <td>0.081629</td>\n",
              "    </tr>\n",
              "    <tr>\n",
              "      <th>Embarked</th>\n",
              "      <td>0.112094</td>\n",
              "      <td>-0.166521</td>\n",
              "      <td>0.066527</td>\n",
              "      <td>0.029800</td>\n",
              "      <td>0.127287</td>\n",
              "      <td>0.165383</td>\n",
              "      <td>-0.069568</td>\n",
              "      <td>-0.041137</td>\n",
              "      <td>1.000000</td>\n",
              "      <td>0.227421</td>\n",
              "      <td>0.171249</td>\n",
              "    </tr>\n",
              "    <tr>\n",
              "      <th>Fare</th>\n",
              "      <td>0.182333</td>\n",
              "      <td>-0.549500</td>\n",
              "      <td>0.146651</td>\n",
              "      <td>0.091912</td>\n",
              "      <td>0.287465</td>\n",
              "      <td>0.482075</td>\n",
              "      <td>0.159651</td>\n",
              "      <td>0.216225</td>\n",
              "      <td>0.227421</td>\n",
              "      <td>1.000000</td>\n",
              "      <td>0.257307</td>\n",
              "    </tr>\n",
              "    <tr>\n",
              "      <th>Survived</th>\n",
              "      <td>0.543351</td>\n",
              "      <td>-0.338481</td>\n",
              "      <td>0.459406</td>\n",
              "      <td>-0.087092</td>\n",
              "      <td>0.594788</td>\n",
              "      <td>0.316912</td>\n",
              "      <td>-0.035322</td>\n",
              "      <td>0.081629</td>\n",
              "      <td>0.171249</td>\n",
              "      <td>0.257307</td>\n",
              "      <td>1.000000</td>\n",
              "    </tr>\n",
              "  </tbody>\n",
              "</table>\n",
              "</div>"
            ],
            "text/plain": [
              "                Sex    Pclass     Title  ...  Embarked      Fare  Survived\n",
              "Sex        1.000000 -0.131900  0.681678  ...  0.112094  0.182333  0.543351\n",
              "Pclass    -0.131900  1.000000 -0.001368  ... -0.166521 -0.549500 -0.338481\n",
              "Title      0.681678 -0.001368  1.000000  ...  0.066527  0.146651  0.459406\n",
              "Age       -0.114664 -0.344338 -0.459314  ...  0.029800  0.091912 -0.087092\n",
              "Connected  0.318579 -0.372341  0.264420  ...  0.127287  0.287465  0.594788\n",
              "Cabin      0.140391 -0.725541  0.055269  ...  0.165383  0.482075  0.316912\n",
              "SibSp      0.114631  0.083081  0.327899  ... -0.069568  0.159651 -0.035322\n",
              "Parch      0.245489  0.018443  0.348587  ... -0.041137  0.216225  0.081629\n",
              "Embarked   0.112094 -0.166521  0.066527  ...  1.000000  0.227421  0.171249\n",
              "Fare       0.182333 -0.549500  0.146651  ...  0.227421  1.000000  0.257307\n",
              "Survived   0.543351 -0.338481  0.459406  ...  0.171249  0.257307  1.000000\n",
              "\n",
              "[11 rows x 11 columns]"
            ]
          },
          "metadata": {
            "tags": []
          },
          "execution_count": 288
        }
      ]
    },
    {
      "cell_type": "markdown",
      "metadata": {
        "id": "eTlr9vjavGrp"
      },
      "source": [
        "# Intuitive Classification\r\n",
        "\r\n",
        "We apply some pattens found in Section explanatory analysis of data to perform prediction. It can be used as a baseline accuracy criterion for ML models. "
      ]
    },
    {
      "cell_type": "code",
      "metadata": {
        "colab": {
          "base_uri": "https://localhost:8080/"
        },
        "id": "aeQn7dA8vlz1",
        "outputId": "0aad44fd-503a-417f-a95c-6c7b5a737b3b"
      },
      "source": [
        "features = test_data.columns.drop(['PassengerId','Embarked','Fare'])\r\n",
        "X = test_data[features]\r\n",
        "fitted = np.zeros(len(X.index))\r\n",
        "\r\n",
        "y_true = test_valid['Survived']\r\n",
        "\r\n",
        "# The score of the following intuitive classification is 0.77511\r\n",
        "# If a passenger is a female and her pclass is 1st or 2nd, she survives.\r\n",
        "location = ((X['Pclass']==1) | (X['Pclass']==2)) & (X['Sex']=='female') \r\n",
        "fitted[location] = 1\r\n",
        "print(get_accuracy(y_true,fitted))\r\n",
        "\r\n",
        "# The score is 0.78468 after adding that Kids in 1st and 2nd class survive\r\n",
        "# Kids in 1st and 2nd class survive\r\n",
        "kids = test_data['Name'].str.extract(r'([A-Za-z]+)\\.', expand=False)\r\n",
        "kids = (kids=='Master')\r\n",
        "kids = ((X['Pclass']==1) | (X['Pclass']==2)) & kids\r\n",
        "for i,flag in enumerate(kids):\r\n",
        "  if flag:\r\n",
        "    fitted[i]=1\r\n",
        "print(get_accuracy(y_true,fitted))\r\n",
        "\r\n",
        "# The score is 0.815789 after we further use the connected survival rate for families in 3rd class.\r\n",
        "my_set = []\r\n",
        "for i in range(len(family_ticket)):\r\n",
        "  if survival_rate_family[i]>0:\r\n",
        "    my_set.append(family_ticket[i])\r\n",
        "        \r\n",
        "titles = test_data['Name'].str.extract(r'([A-Za-z]+)\\.')\r\n",
        "for i in range(len(test_data.index)):\r\n",
        "  condition = (test_data.loc[i,'Parch']!=0) | (test_data.loc[i,'SibSp']!=0) \r\n",
        "  if condition & (test_data.loc[i,'Pclass']==3):\r\n",
        "    if (titles.iloc[i][0]=='Master') | (test_data.loc[i,'Sex']=='female') | ( test_data.loc[i,'Fare']<25):\r\n",
        "      if test_data.loc[i,'Ticket'] in my_set :\r\n",
        "        fitted[i]=1\r\n",
        "print(get_accuracy(y_true,fitted))"
      ],
      "execution_count": 379,
      "outputs": [
        {
          "output_type": "stream",
          "text": [
            "0.7751196172248804\n",
            "0.784688995215311\n",
            "0.8157894736842105\n"
          ],
          "name": "stdout"
        }
      ]
    },
    {
      "cell_type": "code",
      "metadata": {
        "colab": {
          "base_uri": "https://localhost:8080/"
        },
        "id": "se5x-5Eb9vc4",
        "outputId": "aa77967a-9fbe-4f93-afa6-2b7d624f8906"
      },
      "source": [
        "features = train_data.columns.drop(['PassengerId','Embarked','Fare'])\r\n",
        "X = train_data[features]\r\n",
        "fitted = np.zeros(len(X.index))\r\n",
        "\r\n",
        "y_true = train_data['Survived']\r\n",
        "\r\n",
        "# The score of the following intuitive classification is 0.77511\r\n",
        "# If a passenger is a female and her pclass is 1st or 2nd, she survives.\r\n",
        "location = ((X['Pclass']==1) | (X['Pclass']==2)) & (X['Sex']=='female') \r\n",
        "fitted[location] = 1\r\n",
        "print(get_accuracy(y_true,fitted))\r\n",
        "\r\n",
        "# The score is 0.78468 after adding that Kids in 1st and 2nd class survive\r\n",
        "# Kids in 1st and 2nd class survive\r\n",
        "kids = train_data['Name'].str.extract(r'([A-Za-z]+)\\.', expand=False)\r\n",
        "kids = (kids=='Master')\r\n",
        "kids = ((X['Pclass']==1) | (X['Pclass']==2)) & kids\r\n",
        "for i,flag in enumerate(kids):\r\n",
        "  if flag:\r\n",
        "    fitted[i]=1\r\n",
        "print(get_accuracy(y_true,fitted))\r\n",
        "\r\n",
        "# The score is 0.815789 after we further use the connected survival rate for families in 3rd class.\r\n",
        "my_set = []\r\n",
        "for i in range(len(family_ticket)):\r\n",
        "  if survival_rate_family[i]>0:\r\n",
        "    my_set.append(family_ticket[i])\r\n",
        "        \r\n",
        "titles = train_data['Name'].str.extract(r'([A-Za-z]+)\\.')\r\n",
        "for i in range(len(train_data.index)):\r\n",
        "  condition = (train_data.loc[i,'Parch']!=0) | (train_data.loc[i,'SibSp']!=0) \r\n",
        "  if condition & (train_data.loc[i,'Pclass']==3):\r\n",
        "    if (titles.iloc[i][0]=='Master') | (train_data.loc[i,'Sex']=='female') | ( train_data.loc[i,'Fare']<25):\r\n",
        "      if train_data.loc[i,'Ticket'] in my_set :\r\n",
        "        fitted[i]=1\r\n",
        "print(get_accuracy(y_true,fitted))"
      ],
      "execution_count": 382,
      "outputs": [
        {
          "output_type": "stream",
          "text": [
            "0.7867564534231201\n",
            "0.8002244668911336\n",
            "0.8451178451178452\n"
          ],
          "name": "stdout"
        }
      ]
    },
    {
      "cell_type": "markdown",
      "metadata": {
        "id": "-sar82qhxJT6"
      },
      "source": [
        "# Build Model"
      ]
    },
    {
      "cell_type": "markdown",
      "metadata": {
        "id": "6TaKK5OHl34V"
      },
      "source": [
        "Based on the numerical simulation, if we select a proper set of features, the best accuracy of predition for KNN, logistic regression(it does not converge and it is not reliable in this case), Random forest are almost the same 0.8~0.808. But it is not very impressive. \r\n",
        "\r\n",
        "When applying the cross-validation method to choose features, it is better to perform it several times. But anyway, the principle only says on average the chosen set of features performs better. For a specific set of test data, it may not be optimal for the corresponding method.\r\n",
        "\r\n",
        "Random forest as an ensemble method, performs better than DecisionTreeClassifier. Howevert the randomness is really anonying. The prediction accuracy changes from 0.78 to 0.808. "
      ]
    },
    {
      "cell_type": "code",
      "metadata": {
        "id": "kx0mU9SDgBqd"
      },
      "source": [
        "model_list = {\"KNN\": KNeighborsClassifier(n_neighbors=7),\\\r\n",
        "          \"Logistic Regression\": LogisticRegression(penalty='l2',solver='saga'), \\\r\n",
        "          \"Random Forest\": RandomForestClassifier(max_depth=2),\\\r\n",
        "          \"SVC\" : SVC(probability=True),\\\r\n",
        "          \"DecisionTreeClassifier\" : DecisionTreeClassifier(),\\\r\n",
        "          \"AdaBoostClassifier\" : AdaBoostClassifier(),\\\r\n",
        "          \"GradientBoostingClassifier\" : GradientBoostingClassifier(),\\\r\n",
        "          \"GaussianNB\" : GaussianNB(),\\\r\n",
        "          \"LinearDiscriminantAnalysis\" : LinearDiscriminantAnalysis(),\\\r\n",
        "          \"QuadraticDiscriminantAnalysis\" : QuadraticDiscriminantAnalysis(),\\\r\n",
        "          \"KMeans\" : KMeans(n_clusters=2, random_state=0)}"
      ],
      "execution_count": 172,
      "outputs": []
    },
    {
      "cell_type": "code",
      "metadata": {
        "colab": {
          "base_uri": "https://localhost:8080/"
        },
        "id": "Fq2V1OD7gHTg",
        "outputId": "64d05b6d-ee17-459e-81bd-c464884835fa"
      },
      "source": [
        "# 'Sex', 'Pclass', 'Title', 'Age', 'Connected', 'Cabin', 'FamilySize', 'Embarked', 'Fare'\r\n",
        "features = ['Sex','Pclass','Title','Cabin','Connected'] \r\n",
        "\r\n",
        "for method_name in model_list:\r\n",
        "    model = model_list[method_name]\r\n",
        "    model_trained = model.fit(X_train[features],y)\r\n",
        "    fitted = model_trained.predict(X_test[features])\r\n",
        "    print(method_name,' : the training accuracy is ',get_accuracy(test_valid['Survived'],fitted))   "
      ],
      "execution_count": 173,
      "outputs": [
        {
          "output_type": "stream",
          "text": [
            "KNN  : the training accuracy is  0.8038277511961722\n",
            "Logistic Regression  : the training accuracy is  0.7799043062200957\n",
            "Random Forest  : the training accuracy is  0.7822966507177034\n",
            "SVC  : the training accuracy is  0.80622009569378\n",
            "DecisionTreeClassifier  : the training accuracy is  0.7488038277511961\n",
            "AdaBoostClassifier  : the training accuracy is  0.7440191387559809\n",
            "GradientBoostingClassifier  : the training accuracy is  0.7488038277511961\n",
            "GaussianNB  : the training accuracy is  0.7392344497607656\n",
            "LinearDiscriminantAnalysis  : the training accuracy is  0.7488038277511961\n",
            "QuadraticDiscriminantAnalysis  : the training accuracy is  0.7607655502392344\n",
            "KMeans  : the training accuracy is  0.7535885167464115\n"
          ],
          "name": "stdout"
        }
      ]
    },
    {
      "cell_type": "markdown",
      "metadata": {
        "id": "pmSnI7AbiQMJ"
      },
      "source": [
        "## Feature Selection (Cross Validation)"
      ]
    },
    {
      "cell_type": "code",
      "metadata": {
        "colab": {
          "base_uri": "https://localhost:8080/",
          "height": 428
        },
        "id": "nlScYv-dXG2A",
        "outputId": "dab825af-427f-4ff6-ed29-38c9b325671e"
      },
      "source": [
        "model = KNeighborsClassifier(n_neighbors=8)\r\n",
        "# Forward stepsize selection\r\n",
        "features = X_train.columns \r\n",
        "y = train_data['Survived']\r\n",
        "\r\n",
        "forward_selection_set_score = []\r\n",
        "for i in range(len(features)):\r\n",
        "  if i==0:\r\n",
        "    forward_selection_set = []\r\n",
        "  flag = True\r\n",
        "  for j in features :\r\n",
        "    score_temp = cross_val_score(model,X_train[np.append(forward_selection_set,j)],y,cv=5).mean()\r\n",
        "    if flag:\r\n",
        "      score_max = [score_temp,j]\r\n",
        "      flag = False\r\n",
        "    else:\r\n",
        "      if score_max[0] < score_temp:\r\n",
        "        score_max = [score_temp,j]\r\n",
        "  forward_selection_set.append(score_max[1])\r\n",
        "  features = np.delete(features,np.where(features==score_max[1]),axis=0)\r\n",
        "  forward_selection_set_score.append(score_max[0])\r\n",
        "\r\n",
        "plt.plot(forward_selection_set_score)\r\n",
        "plt.show()\r\n",
        "forward_selection_set"
      ],
      "execution_count": 258,
      "outputs": [
        {
          "output_type": "display_data",
          "data": {
            "image/png": "[encoded data removed]",
            "text/plain": [
              "<Figure size 432x288 with 1 Axes>"
            ]
          },
          "metadata": {
            "tags": [],
            "needs_background": "light"
          }
        },
        {
          "output_type": "execute_result",
          "data": {
            "text/plain": [
              "['Connected',\n",
              " 'Sex',\n",
              " 'Title',\n",
              " 'Cabin',\n",
              " 'Pclass',\n",
              " 'Embarked',\n",
              " 'FamilySize',\n",
              " 'Age',\n",
              " 'Fare']"
            ]
          },
          "metadata": {
            "tags": []
          },
          "execution_count": 258
        }
      ]
    },
    {
      "cell_type": "markdown",
      "metadata": {
        "id": "1WRStQMffrP4"
      },
      "source": [
        "## LogisticRegression"
      ]
    },
    {
      "cell_type": "code",
      "metadata": {
        "colab": {
          "base_uri": "https://localhost:8080/"
        },
        "id": "vzbH1NZQ_-xu",
        "outputId": "63ff6ee2-e04b-4959-a957-234c989bdb49"
      },
      "source": [
        "# Features selected the k-fold cross validation \r\n",
        "# train_test_split(X_train, y, test_size=0.20, random_state=46)\r\n",
        "\r\n",
        "features = ['Sex',\r\n",
        " 'Connected',\r\n",
        " 'FamilySize',\r\n",
        " 'Embarked',\r\n",
        " 'Pclass',\r\n",
        " 'Title',\r\n",
        " 'Age']\r\n",
        "model = LogisticRegression(penalty='l2',solver='saga',max_iter=100)\r\n",
        "model_trained = model.fit(X_train[features],y)\r\n",
        "model_trained.score(X_train[features],y)\r\n",
        "\r\n",
        "fitted = model_trained.predict(X_test[features])\r\n",
        "print('The training accuracy is ',get_accuracy(test_valid['Survived'],fitted)) "
      ],
      "execution_count": 225,
      "outputs": [
        {
          "output_type": "stream",
          "text": [
            "The training accuracy is  0.8014354066985646\n"
          ],
          "name": "stdout"
        },
        {
          "output_type": "stream",
          "text": [
            "/usr/local/lib/python3.6/dist-packages/sklearn/linear_model/_sag.py:330: ConvergenceWarning: The max_iter was reached which means the coef_ did not converge\n",
            "  \"the coef_ did not converge\", ConvergenceWarning)\n"
          ],
          "name": "stderr"
        }
      ]
    },
    {
      "cell_type": "markdown",
      "metadata": {
        "id": "i4ayJ2MUf88E"
      },
      "source": [
        "## Random Forest"
      ]
    },
    {
      "cell_type": "code",
      "metadata": {
        "colab": {
          "base_uri": "https://localhost:8080/"
        },
        "id": "qEV2RPvjAE3K",
        "outputId": "41bb466a-f268-4f1d-f140-7cce8c092d45"
      },
      "source": [
        "# Features selected the k-fold cross validation \r\n",
        "# train_test_split(X_train, y, test_size=0.20, random_state=46)\r\n",
        "\r\n",
        "features = ['Sex',\r\n",
        " 'Connected',\r\n",
        " 'Title',\r\n",
        " 'Embarked',\r\n",
        " 'Age',\r\n",
        " 'Cabin',\r\n",
        " 'Pclass']\r\n",
        "model = RandomForestClassifier(max_depth=2)\r\n",
        "model_trained = model.fit(X_train[features],y)\r\n",
        "model_trained.score(X_train[features],y)\r\n",
        "\r\n",
        "fitted = model_trained.predict(X_test[features])\r\n",
        "print('The training accuracy is ',get_accuracy(test_valid['Survived'],fitted)) "
      ],
      "execution_count": 287,
      "outputs": [
        {
          "output_type": "stream",
          "text": [
            "The training accuracy is  0.8086124401913876\n"
          ],
          "name": "stdout"
        }
      ]
    },
    {
      "cell_type": "code",
      "metadata": {
        "colab": {
          "base_uri": "https://localhost:8080/"
        },
        "id": "jpeAOZ8FkdQW",
        "outputId": "71fc1b33-5357-450f-febe-a87dddc960e6"
      },
      "source": [
        "features = ['Sex',\r\n",
        " 'Connected',\r\n",
        " 'Title',\r\n",
        " 'Pclass']\r\n",
        "model = RandomForestClassifier(max_depth=2)\r\n",
        "model_trained = model.fit(X_train[features],y)\r\n",
        "model_trained.score(X_train[features],y)\r\n",
        "\r\n",
        "fitted = model_trained.predict(X_test[features])\r\n",
        "print('The training accuracy is ',get_accuracy(test_valid['Survived'],fitted)) \r\n",
        "\r\n",
        "# cross_val_score(RandomForestClassifier(max_depth=2),X=X_train[features],y=y,cv=5).mean()"
      ],
      "execution_count": 276,
      "outputs": [
        {
          "output_type": "stream",
          "text": [
            "The training accuracy is  0.7464114832535885\n"
          ],
          "name": "stdout"
        }
      ]
    },
    {
      "cell_type": "markdown",
      "metadata": {
        "id": "lC7_CADvgKUB"
      },
      "source": [
        "## GradientBoostingClassifier"
      ]
    },
    {
      "cell_type": "code",
      "metadata": {
        "colab": {
          "base_uri": "https://localhost:8080/"
        },
        "id": "s1fsFrsqgKvo",
        "outputId": "83a8d11c-46da-466e-80af-23d830765575"
      },
      "source": [
        "# Features selected the k-fold cross validation \r\n",
        "# train_test_split(X_train, y, test_size=0.20, random_state=46)\r\n",
        "\r\n",
        "features = ['Sex',\r\n",
        " 'Connected',\r\n",
        " 'FamilySize',\r\n",
        " 'Pclass',\r\n",
        " 'Age']\r\n",
        "\r\n",
        "model = GradientBoostingClassifier()\r\n",
        "model_trained = model.fit(X_train[features],y)\r\n",
        "model_trained.score(X_train[features],y)\r\n",
        "\r\n",
        "fitted = model_trained.predict(X_test[features])\r\n",
        "print('The training accuracy is ',get_accuracy(test_valid['Survived'],fitted)) "
      ],
      "execution_count": 103,
      "outputs": [
        {
          "output_type": "stream",
          "text": [
            "The training accuracy is  0.7559808612440191\n"
          ],
          "name": "stdout"
        }
      ]
    },
    {
      "cell_type": "markdown",
      "metadata": {
        "id": "TYdjEZedhLUV"
      },
      "source": [
        "## KNeighborsClassifier"
      ]
    },
    {
      "cell_type": "code",
      "metadata": {
        "colab": {
          "base_uri": "https://localhost:8080/"
        },
        "id": "aZinbmGYhLte",
        "outputId": "8bbb99c7-3125-4f47-cd48-a2a24e33a127"
      },
      "source": [
        "# Features selected the k-fold cross validation \r\n",
        "# train_test_split(X_train, y, test_size=0.20, random_state=46)\r\n",
        "features = ['Sex',\r\n",
        " 'Connected',\r\n",
        " 'FamilySize',\r\n",
        " 'Title']\r\n",
        "model = KNeighborsClassifier(n_neighbors=8)\r\n",
        "model_trained = model.fit(X_train[features],y)\r\n",
        "model_trained.score(X_train[features],y)\r\n",
        "\r\n",
        "fitted = model_trained.predict(X_test[features])\r\n",
        "print('The training accuracy is ',get_accuracy(test_valid['Survived'],fitted)) "
      ],
      "execution_count": 109,
      "outputs": [
        {
          "output_type": "stream",
          "text": [
            "The training accuracy is  0.7535885167464115\n"
          ],
          "name": "stdout"
        }
      ]
    },
    {
      "cell_type": "code",
      "metadata": {
        "colab": {
          "base_uri": "https://localhost:8080/"
        },
        "id": "9gnJhQ2ohm7p",
        "outputId": "d8875760-9e94-49c1-ea0f-6bd97b4a58f6"
      },
      "source": [
        "features = ['Sex','Pclass','Title','Connected'] \r\n",
        "\r\n",
        "model = KNeighborsClassifier(n_neighbors=8)\r\n",
        "model_trained = model.fit(X_train[features],y)\r\n",
        "model_trained.score(X_train[features],y)\r\n",
        "\r\n",
        "fitted = model_trained.predict(X_test[features])\r\n",
        "print('The training accuracy is ',get_accuracy(test_valid['Survived'],fitted))"
      ],
      "execution_count": 259,
      "outputs": [
        {
          "output_type": "stream",
          "text": [
            "0.8327721661054994\n",
            "The training accuracy is  0.7822966507177034\n"
          ],
          "name": "stdout"
        }
      ]
    },
    {
      "cell_type": "markdown",
      "metadata": {
        "id": "SNUKr7bViI2q"
      },
      "source": [
        "## SVC"
      ]
    },
    {
      "cell_type": "code",
      "metadata": {
        "colab": {
          "base_uri": "https://localhost:8080/"
        },
        "id": "yM6MF9xwie09",
        "outputId": "4e2bbda4-bc6c-4b07-dbb4-23f333eb6689"
      },
      "source": [
        "# Features selected the k-fold cross validation \r\n",
        "# train_test_split(X_train, y, test_size=0.20, random_state=46)\r\n",
        "features = ['Sex',\r\n",
        " 'Connected',\r\n",
        " 'Pclass',\r\n",
        " 'Title',\r\n",
        " 'Embarked',\r\n",
        " 'Cabin',\r\n",
        " 'FamilySize']\r\n",
        "\r\n",
        "model = SVC(probability=True)\r\n",
        "model_trained = model.fit(X_train[features],y)\r\n",
        "model_trained.score(X_train[features],y)\r\n",
        "\r\n",
        "fitted = model_trained.predict(X_test[features])\r\n",
        "print('The training accuracy is ',get_accuracy(test_valid['Survived'],fitted))"
      ],
      "execution_count": 114,
      "outputs": [
        {
          "output_type": "stream",
          "text": [
            "The training accuracy is  0.7703349282296651\n"
          ],
          "name": "stdout"
        }
      ]
    },
    {
      "cell_type": "code",
      "metadata": {
        "colab": {
          "base_uri": "https://localhost:8080/"
        },
        "id": "6PrtbBxMivcC",
        "outputId": "0db4dbe7-1add-4eb8-95cb-5f80bfcc845f"
      },
      "source": [
        "features = ['Sex','Pclass','Title','Connected'] \r\n",
        "\r\n",
        "model = SVC(probability=True)\r\n",
        "model_trained = model.fit(X_train[features],y)\r\n",
        "model_trained.score(X_train[features],y)\r\n",
        "\r\n",
        "fitted = model_trained.predict(X_test[features])\r\n",
        "print('The training accuracy is ',get_accuracy(test_valid['Survived'],fitted))"
      ],
      "execution_count": 124,
      "outputs": [
        {
          "output_type": "stream",
          "text": [
            "The training accuracy is  0.80622009569378\n"
          ],
          "name": "stdout"
        }
      ]
    },
    {
      "cell_type": "code",
      "metadata": {
        "colab": {
          "base_uri": "https://localhost:8080/",
          "height": 428
        },
        "id": "uvblPpNBi7Fl",
        "outputId": "ca267a71-94c4-49ab-85e9-69184e7ec0d4"
      },
      "source": [
        "model = SVC(probability=True)\r\n",
        "\r\n",
        "# Forward stepsize selection\r\n",
        "features = X_train.columns \r\n",
        "y = train_data['Survived']\r\n",
        "\r\n",
        "x_train, x_test, y_train, y_test = train_test_split(X_train, y, test_size=0.20, random_state=0)\r\n",
        "\r\n",
        "forward_selection_set_score = []\r\n",
        "for i in range(len(features)):\r\n",
        "  if i==0:\r\n",
        "    forward_selection_set = []\r\n",
        "  flag = True\r\n",
        "  for j in features :\r\n",
        "    model_trained = model.fit(x_train[np.append(forward_selection_set,j)],y_train)\r\n",
        "    score_temp = model_trained.score(x_test[np.append(forward_selection_set,j)],y_test)\r\n",
        "    if flag:\r\n",
        "      score_max = [score_temp,j]\r\n",
        "      flag = False\r\n",
        "    else:\r\n",
        "      if score_max[0] < score_temp:\r\n",
        "        score_max = [score_temp,j]\r\n",
        "  forward_selection_set.append(score_max[1])\r\n",
        "  features = np.delete(features,np.where(features==score_max[1]),axis=0)\r\n",
        "  forward_selection_set_score.append(score_max[0])\r\n",
        "\r\n",
        "plt.plot(forward_selection_set_score)\r\n",
        "plt.show()\r\n",
        "forward_selection_set"
      ],
      "execution_count": 116,
      "outputs": [
        {
          "output_type": "display_data",
          "data": {
            "image/png": "[encoded data removed]",
            "text/plain": [
              "<Figure size 432x288 with 1 Axes>"
            ]
          },
          "metadata": {
            "tags": [],
            "needs_background": "light"
          }
        },
        {
          "output_type": "execute_result",
          "data": {
            "text/plain": [
              "['Connected',\n",
              " 'Sex',\n",
              " 'Pclass',\n",
              " 'Cabin',\n",
              " 'FamilySize',\n",
              " 'Title',\n",
              " 'Embarked',\n",
              " 'Age',\n",
              " 'Fare']"
            ]
          },
          "metadata": {
            "tags": []
          },
          "execution_count": 116
        }
      ]
    },
    {
      "cell_type": "markdown",
      "metadata": {
        "id": "mdYEE13wlOX5"
      },
      "source": [
        "## DecisionTreeClassifier"
      ]
    },
    {
      "cell_type": "code",
      "metadata": {
        "colab": {
          "base_uri": "https://localhost:8080/"
        },
        "id": "dTAAVZf2lP05",
        "outputId": "f099904a-177d-4587-8475-7bc843584df1"
      },
      "source": [
        "features = ['Sex',\r\n",
        " 'Connected',\r\n",
        " 'Title',\r\n",
        " 'Age',\r\n",
        " 'Pclass']\r\n",
        "\r\n",
        "model = DecisionTreeClassifier(max_depth=2)\r\n",
        "model_trained = model.fit(X_train[features],y)\r\n",
        "model_trained.score(X_train[features],y)\r\n",
        "\r\n",
        "fitted = model_trained.predict(X_test[features])\r\n",
        "print('The training accuracy is ',get_accuracy(test_valid['Survived'],fitted)) "
      ],
      "execution_count": 167,
      "outputs": [
        {
          "output_type": "stream",
          "text": [
            "The training accuracy is  0.7535885167464115\n"
          ],
          "name": "stdout"
        }
      ]
    },
    {
      "cell_type": "markdown",
      "metadata": {
        "id": "7bMsnAEesJ-g"
      },
      "source": [
        "# Summary\r\n",
        "\r\n",
        "The goal of using machine learning methods in classifcation problems is to help us to identify some hidden pattens. If we can find and identify the patten explicitly, it is better or more accurate to perform prediction directly. For this problem, it is better to transform all data into several categories instead of wroking with continuous numerical data. "
      ]
    },
    {
      "cell_type": "markdown",
      "metadata": {
        "id": "pl26FFdDi256"
      },
      "source": [
        "# Appendix"
      ]
    },
    {
      "cell_type": "code",
      "metadata": {
        "id": "3Z2ABiI98Mkp"
      },
      "source": [
        "## Random Forest\r\n",
        "\r\n",
        "X = pd.concat([sex,pclass,title_age_train,connected],axis=1)\r\n",
        "Y = train_data['Survived']\r\n",
        "\r\n",
        "grid_param = {\r\n",
        " 'n_estimators': [50,100, 150, 200, 250],\r\n",
        " 'criterion':['gini', 'entropy'],\r\n",
        " 'min_samples_split': [2, 4, 6],\r\n",
        " 'min_samples_leaf': [1, 5,7],\r\n",
        " 'bootstrap': [True, False],\r\n",
        "}\r\n",
        "gd_sr = GridSearchCV(estimator=model,\r\n",
        " param_grid=grid_param,\r\n",
        " scoring='accuracy',\r\n",
        " cv=5,\r\n",
        " n_jobs=-1)\r\n",
        "gd_sr.fit(X, Y)\r\n",
        "best_parameters = gd_sr.best_params_\r\n",
        "print(best_parameters)\r\n"
      ],
      "execution_count": null,
      "outputs": []
    },
    {
      "cell_type": "code",
      "metadata": {
        "id": "htkqS7RC8r6H"
      },
      "source": [
        "fitted = pd.DataFrame(fitted,columns=['Survived'])\r\n",
        "result = pd.concat([test_data['PassengerId'],fitted],axis=1)\r\n",
        "result = result.astype({'Survived':'int64'})\r\n",
        "result.to_csv('drive/My Drive/data/titanic_submission.csv',index=False,header=True)"
      ],
      "execution_count": 381,
      "outputs": []
    }
  ]
}